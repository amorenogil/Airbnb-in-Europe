{
 "cells": [
  {
   "cell_type": "markdown",
   "id": "7169d05b",
   "metadata": {},
   "source": [
    "# Geographical visualizations with Python\n",
    "\n",
    "**01. Importing libraries**\n",
    "\n",
    "**02. Importing the data** \n",
    "\n",
    "**03. Task 6.3: Geographical visualizations**"
   ]
  },
  {
   "cell_type": "markdown",
   "id": "688a85a8",
   "metadata": {},
   "source": [
    "## 01. Importing libraries"
   ]
  },
  {
   "cell_type": "code",
   "execution_count": null,
   "id": "dc6cc09c",
   "metadata": {},
   "outputs": [],
   "source": [
    "import pandas as pd \n",
    "import numpy as np \n",
    "import matplotlib\n",
    "import seaborn as sns \n",
    "import folium\n",
    "import json\n",
    "import os\n"
   ]
  },
  {
   "cell_type": "code",
   "execution_count": null,
   "id": "51723203",
   "metadata": {},
   "outputs": [],
   "source": [
    "#making sure that the charts created are displayed in the notebook without the need to call them specifically\n",
    "%matplotlib inline"
   ]
  },
  {
   "cell_type": "markdown",
   "id": "0d548d31",
   "metadata": {},
   "source": [
    "## 02. Importing the data "
   ]
  },
  {
   "cell_type": "code",
   "execution_count": null,
   "id": "1b1ef9bd",
   "metadata": {},
   "outputs": [],
   "source": [
    "# Creating a path\n",
    "path = r'C:\\Users\\amore\\Documents\\Data Analyst course\\Data Immersion\\Achievement 6 Advanced Analytics\\Airbnb Europe Analysis'"
   ]
  },
  {
   "cell_type": "code",
   "execution_count": null,
   "id": "9fbc69e1",
   "metadata": {},
   "outputs": [],
   "source": [
    "#importing the data \n",
    "df_bnb=pd.read_pickle(os.path.join(path, '02 Data','Prepared Data','airbnb_europe_clean_max2.pkl'))"
   ]
  },
  {
   "cell_type": "code",
   "execution_count": null,
   "id": "bd1147d0",
   "metadata": {},
   "outputs": [],
   "source": [
    "#importing the json\n",
    "europe_geo = r'C:\\Users\\amore\\Documents\\Data Analyst course\\Data Immersion\\Achievement 6 Advanced Analytics\\Airbnb Europe Analysis\\02 Data\\Original Data\\countries.geojson'"
   ]
  },
  {
   "cell_type": "markdown",
   "id": "c00dbed8",
   "metadata": {},
   "source": [
    "## 03. Task 6.3: Geographical visualizations"
   ]
  },
  {
   "cell_type": "code",
   "execution_count": null,
   "id": "0eee6957",
   "metadata": {},
   "outputs": [],
   "source": [
    "df_bnb.head()"
   ]
  },
  {
   "cell_type": "code",
   "execution_count": null,
   "id": "7014df13",
   "metadata": {},
   "outputs": [],
   "source": [
    "df_bnb[df_bnb['country']=='italy']"
   ]
  },
  {
   "cell_type": "code",
   "execution_count": null,
   "id": "e0cf373b",
   "metadata": {},
   "outputs": [],
   "source": [
    "#selecting the country and number of listing_id as the elements to represent in the map \n",
    "map_data = df_bnb.groupby('country')['listing_id'].count()"
   ]
  },
  {
   "cell_type": "code",
   "execution_count": null,
   "id": "d0551891",
   "metadata": {},
   "outputs": [],
   "source": [
    "#checking the results\n",
    "map_data"
   ]
  },
  {
   "cell_type": "code",
   "execution_count": null,
   "id": "65343cb8",
   "metadata": {},
   "outputs": [],
   "source": [
    "#creating the map \n",
    "map = folium.Map(location=[100, 0], zoom_start=1.5)\n",
    "\n",
    "folium.Choropleth(\n",
    "    geo_data=europe_geo, \n",
    "    data=map_data,\n",
    "    columns=['country', 'listing_id'],\n",
    "    key_on=\"feature.properties.ADMIN\", \n",
    "    fill_color='YlOrBr', fill_opacity=0.6, line_opacity=0.1,\n",
    "    legend_name=\"Number of listings\"\n",
    ").add_to(map)\n",
    "\n",
    "folium.LayerControl().add_to(map)\n",
    "\n",
    "map\n",
    "\n"
   ]
  },
  {
   "cell_type": "code",
   "execution_count": null,
   "id": "29925657",
   "metadata": {},
   "outputs": [],
   "source": [
    "map.save('plot_data.html')"
   ]
  },
  {
   "cell_type": "code",
   "execution_count": null,
   "id": "22887fb9",
   "metadata": {},
   "outputs": [],
   "source": [
    "#Creating a second subset of information with the country and average price\n",
    "map_data2 = df_bnb.groupby('country')['price'].mean()"
   ]
  },
  {
   "cell_type": "code",
   "execution_count": null,
   "id": "1960d28f",
   "metadata": {},
   "outputs": [],
   "source": [
    "# Checking the second subset\n",
    "map_data2"
   ]
  },
  {
   "cell_type": "code",
   "execution_count": null,
   "id": "40b3ebc2",
   "metadata": {},
   "outputs": [],
   "source": [
    "# Plotting the second map \n",
    "map = folium.Map(location=[100, 0], zoom_start=2.5)\n",
    "\n",
    "folium.Choropleth(\n",
    "    geo_data=europe_geo, \n",
    "    data=map_data2,\n",
    "    columns=['country', 'price'],\n",
    "    key_on=\"feature.properties.ADMIN\", \n",
    "    fill_color='YlOrBr', fill_opacity=0.6, line_opacity=0.1,\n",
    "    legend_name=\"average price\"\n",
    ").add_to(map)\n",
    "\n",
    "folium.LayerControl().add_to(map)\n",
    "\n",
    "map\n"
   ]
  },
  {
   "cell_type": "code",
   "execution_count": null,
   "id": "3ddebea3",
   "metadata": {},
   "outputs": [],
   "source": [
    "map.save('plot_data2.html')"
   ]
  },
  {
   "cell_type": "markdown",
   "id": "ca32e148",
   "metadata": {},
   "source": [
    "## Answers"
   ]
  },
  {
   "cell_type": "markdown",
   "id": "221b1c0e",
   "metadata": {},
   "source": [
    "The first map doesn't directly answer any of my research questions, however, it is a very good way to see the differences in the quantity of Airbnb accomodations across Europe. It also useful to infer that certain countries have much more turistic cities than others, in that sense the UK, France, Italy and Spain concentrate, by far, most of the Airbnb listings in cities. However it should be considered that only the city listings are considered here, there are some very touristic regions in Europe, for example Mallorca, Sicily or the Greek islands that are not included here as they are not concentrated on a singular city but rather spread across a bigger area. If that data is included, Italy and Spain would, most likely pull ahead of France and the UK.  "
   ]
  },
  {
   "cell_type": "markdown",
   "id": "712a0392",
   "metadata": {},
   "source": [
    "The second map does provide a direct answer to one of my initial hypothesis, as it clearly indicates significant differences in the average prices of airbnb listings across different countries of Europe. In that sense the Netherlands, Switzerland and the UK have the most expensive listings, with mean prices above 150 euros. On the other end of the spectrum we find Latvia, Turkey and Greece, the only three countries where the mean price of an airbnb is below 100 euros. "
   ]
  },
  {
   "cell_type": "code",
   "execution_count": null,
   "id": "bff535b6",
   "metadata": {},
   "outputs": [],
   "source": [
    "pd"
   ]
  }
 ],
 "metadata": {
  "kernelspec": {
   "display_name": "Python 3 (ipykernel)",
   "language": "python",
   "name": "python3"
  },
  "language_info": {
   "codemirror_mode": {
    "name": "ipython",
    "version": 3
   },
   "file_extension": ".py",
   "mimetype": "text/x-python",
   "name": "python",
   "nbconvert_exporter": "python",
   "pygments_lexer": "ipython3",
   "version": "3.9.13"
  }
 },
 "nbformat": 4,
 "nbformat_minor": 5
}
