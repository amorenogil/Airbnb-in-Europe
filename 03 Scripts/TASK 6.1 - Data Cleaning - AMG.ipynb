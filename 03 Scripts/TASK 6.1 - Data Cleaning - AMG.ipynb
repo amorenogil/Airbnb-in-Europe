{
 "cells": [
  {
   "cell_type": "markdown",
   "id": "fcf66711",
   "metadata": {},
   "source": [
    "## Airbnb in Europe: analysis\n",
    "\n",
    "**01. Import Libraries**\n",
    "\n",
    "**02. Data integration**\n",
    "       \n",
    "       2a. Importing the segmented city datasets\n",
    "       2b. Concatenating the datasets\n",
    "\n",
    "**03. Data quality check and data cleaning** \n",
    "       \n",
    "       3a. Duplicates\n",
    "       3b. Assessing missing values\n",
    "       3c. Droping unnecessary columns \n",
    "       3d. Renaming columns\n",
    "       3e. Converting data types\n",
    "       3f. Additional cleaning\n",
    "        \n",
    "**04. Exporting the new dataframe**\n",
    " \n",
    "      "
   ]
  },
  {
   "cell_type": "markdown",
   "id": "02dc2f73",
   "metadata": {},
   "source": [
    "## 01 Importing Libraries"
   ]
  },
  {
   "cell_type": "code",
   "execution_count": 1,
   "id": "3a10682e",
   "metadata": {},
   "outputs": [],
   "source": [
    "#importing libraries\n",
    "import pandas as pd\n",
    "import numpy as np\n",
    "import os\n"
   ]
  },
  {
   "cell_type": "markdown",
   "id": "9a4de709",
   "metadata": {},
   "source": [
    "# 02. Data integration"
   ]
  },
  {
   "cell_type": "markdown",
   "id": "9e92fdc2",
   "metadata": {},
   "source": [
    "**The data to be used is contained in 40 separed csv file, each one of them dedicated to one big european city in which Airbnb operates. Therefore, the first step has been to import and name each individual city dataframe, and add, to each of them a \"country\" and a \"city\" column. Additionally the prices that were not expressed in euros were transformed for these cities that required it (e.g. London, Copenhagen, Stockholm, etc). Once all this has been complited the different datasets have been concatenated in a single \"df_europe\" dataframe**"
   ]
  },
  {
   "cell_type": "markdown",
   "id": "32a1ba03",
   "metadata": {},
   "source": [
    "**02a. Importing the segmented city datasets**"
   ]
  },
  {
   "cell_type": "code",
   "execution_count": 2,
   "id": "8c187213",
   "metadata": {},
   "outputs": [],
   "source": [
    "#creating a path\n",
    "path = r'C:\\Users\\amore\\Documents\\Data Analyst course\\Data Immersion\\Achievement 6 Advanced Analytics\\Airbnb Europe Analysis'"
   ]
  },
  {
   "cell_type": "code",
   "execution_count": 3,
   "id": "19d5f424",
   "metadata": {},
   "outputs": [],
   "source": [
    "#Importing the data for Amsterdam\n",
    "df_ams=pd.read_csv(os.path.join(path, '02 Data','Original data',\"listings_AMS.csv\"), index_col=False)"
   ]
  },
  {
   "cell_type": "code",
   "execution_count": 4,
   "id": "036562f5",
   "metadata": {},
   "outputs": [],
   "source": [
    "#changing the display options \n",
    "pd.set_option('display.max_columns', 25)"
   ]
  },
  {
   "cell_type": "code",
   "execution_count": 5,
   "id": "b59e5655",
   "metadata": {},
   "outputs": [],
   "source": [
    "#creating new columns for country and city \n",
    "df_ams['country']='Netherlands'"
   ]
  },
  {
   "cell_type": "code",
   "execution_count": 6,
   "id": "ae67825a",
   "metadata": {},
   "outputs": [],
   "source": [
    "df_ams['city'] = 'Amsterdam' "
   ]
  },
  {
   "cell_type": "code",
   "execution_count": 7,
   "id": "f7114fc4",
   "metadata": {},
   "outputs": [
    {
     "data": {
      "text/html": [
       "<div>\n",
       "<style scoped>\n",
       "    .dataframe tbody tr th:only-of-type {\n",
       "        vertical-align: middle;\n",
       "    }\n",
       "\n",
       "    .dataframe tbody tr th {\n",
       "        vertical-align: top;\n",
       "    }\n",
       "\n",
       "    .dataframe thead th {\n",
       "        text-align: right;\n",
       "    }\n",
       "</style>\n",
       "<table border=\"1\" class=\"dataframe\">\n",
       "  <thead>\n",
       "    <tr style=\"text-align: right;\">\n",
       "      <th></th>\n",
       "      <th>id</th>\n",
       "      <th>name</th>\n",
       "      <th>host_id</th>\n",
       "      <th>host_name</th>\n",
       "      <th>neighbourhood_group</th>\n",
       "      <th>neighbourhood</th>\n",
       "      <th>latitude</th>\n",
       "      <th>longitude</th>\n",
       "      <th>room_type</th>\n",
       "      <th>price</th>\n",
       "      <th>minimum_nights</th>\n",
       "      <th>number_of_reviews</th>\n",
       "      <th>last_review</th>\n",
       "      <th>reviews_per_month</th>\n",
       "      <th>calculated_host_listings_count</th>\n",
       "      <th>availability_365</th>\n",
       "      <th>number_of_reviews_ltm</th>\n",
       "      <th>license</th>\n",
       "      <th>country</th>\n",
       "      <th>city</th>\n",
       "    </tr>\n",
       "  </thead>\n",
       "  <tbody>\n",
       "    <tr>\n",
       "      <th>0</th>\n",
       "      <td>816940</td>\n",
       "      <td>Old South Lovely Garden Apartment</td>\n",
       "      <td>4290554</td>\n",
       "      <td>Joyce</td>\n",
       "      <td>NaN</td>\n",
       "      <td>Zuid</td>\n",
       "      <td>52.35323</td>\n",
       "      <td>4.85421</td>\n",
       "      <td>Entire home/apt</td>\n",
       "      <td>165</td>\n",
       "      <td>6</td>\n",
       "      <td>63</td>\n",
       "      <td>2022-11-28</td>\n",
       "      <td>0.54</td>\n",
       "      <td>1</td>\n",
       "      <td>11</td>\n",
       "      <td>2</td>\n",
       "      <td>03632A9BE56A736890D1</td>\n",
       "      <td>Netherlands</td>\n",
       "      <td>Amsterdam</td>\n",
       "    </tr>\n",
       "    <tr>\n",
       "      <th>1</th>\n",
       "      <td>528022</td>\n",
       "      <td>Somewhere Else</td>\n",
       "      <td>2594559</td>\n",
       "      <td>Els</td>\n",
       "      <td>NaN</td>\n",
       "      <td>Westerpark</td>\n",
       "      <td>52.39114</td>\n",
       "      <td>4.88846</td>\n",
       "      <td>Private room</td>\n",
       "      <td>100</td>\n",
       "      <td>2</td>\n",
       "      <td>248</td>\n",
       "      <td>2022-11-28</td>\n",
       "      <td>3.30</td>\n",
       "      <td>1</td>\n",
       "      <td>212</td>\n",
       "      <td>37</td>\n",
       "      <td>0363 9289 A94D 5C21 A579</td>\n",
       "      <td>Netherlands</td>\n",
       "      <td>Amsterdam</td>\n",
       "    </tr>\n",
       "    <tr>\n",
       "      <th>2</th>\n",
       "      <td>538723</td>\n",
       "      <td>Beautiful ground floor apartment</td>\n",
       "      <td>356740</td>\n",
       "      <td>Dimphy</td>\n",
       "      <td>NaN</td>\n",
       "      <td>Watergraafsmeer</td>\n",
       "      <td>52.35400</td>\n",
       "      <td>4.93965</td>\n",
       "      <td>Entire home/apt</td>\n",
       "      <td>140</td>\n",
       "      <td>5</td>\n",
       "      <td>57</td>\n",
       "      <td>2020-01-01</td>\n",
       "      <td>0.45</td>\n",
       "      <td>1</td>\n",
       "      <td>0</td>\n",
       "      <td>0</td>\n",
       "      <td>0363 D990 F92F DECF 88D4</td>\n",
       "      <td>Netherlands</td>\n",
       "      <td>Amsterdam</td>\n",
       "    </tr>\n",
       "    <tr>\n",
       "      <th>3</th>\n",
       "      <td>549310</td>\n",
       "      <td>Family Apartment with Garden</td>\n",
       "      <td>2699033</td>\n",
       "      <td>Barbara</td>\n",
       "      <td>NaN</td>\n",
       "      <td>De Baarsjes - Oud-West</td>\n",
       "      <td>52.37126</td>\n",
       "      <td>4.86241</td>\n",
       "      <td>Entire home/apt</td>\n",
       "      <td>200</td>\n",
       "      <td>2</td>\n",
       "      <td>54</td>\n",
       "      <td>2022-08-10</td>\n",
       "      <td>0.60</td>\n",
       "      <td>1</td>\n",
       "      <td>7</td>\n",
       "      <td>7</td>\n",
       "      <td>0363 35CD 76C9 04D4 1A21</td>\n",
       "      <td>Netherlands</td>\n",
       "      <td>Amsterdam</td>\n",
       "    </tr>\n",
       "    <tr>\n",
       "      <th>4</th>\n",
       "      <td>553514</td>\n",
       "      <td>B&amp;B WestergasTverblijf , Cosy!</td>\n",
       "      <td>618589</td>\n",
       "      <td>Mirjam</td>\n",
       "      <td>NaN</td>\n",
       "      <td>Westerpark</td>\n",
       "      <td>52.38444</td>\n",
       "      <td>4.86916</td>\n",
       "      <td>Entire home/apt</td>\n",
       "      <td>80</td>\n",
       "      <td>2</td>\n",
       "      <td>162</td>\n",
       "      <td>2020-02-16</td>\n",
       "      <td>1.34</td>\n",
       "      <td>1</td>\n",
       "      <td>1</td>\n",
       "      <td>0</td>\n",
       "      <td>0363 AD82 ADCF 17F3 C3EA</td>\n",
       "      <td>Netherlands</td>\n",
       "      <td>Amsterdam</td>\n",
       "    </tr>\n",
       "  </tbody>\n",
       "</table>\n",
       "</div>"
      ],
      "text/plain": [
       "       id                               name  host_id host_name  \\\n",
       "0  816940  Old South Lovely Garden Apartment  4290554     Joyce   \n",
       "1  528022                     Somewhere Else  2594559       Els   \n",
       "2  538723   Beautiful ground floor apartment   356740    Dimphy   \n",
       "3  549310       Family Apartment with Garden  2699033   Barbara   \n",
       "4  553514     B&B WestergasTverblijf , Cosy!   618589    Mirjam   \n",
       "\n",
       "   neighbourhood_group           neighbourhood  latitude  longitude  \\\n",
       "0                  NaN                    Zuid  52.35323    4.85421   \n",
       "1                  NaN              Westerpark  52.39114    4.88846   \n",
       "2                  NaN         Watergraafsmeer  52.35400    4.93965   \n",
       "3                  NaN  De Baarsjes - Oud-West  52.37126    4.86241   \n",
       "4                  NaN              Westerpark  52.38444    4.86916   \n",
       "\n",
       "         room_type  price  minimum_nights  number_of_reviews last_review  \\\n",
       "0  Entire home/apt    165               6                 63  2022-11-28   \n",
       "1     Private room    100               2                248  2022-11-28   \n",
       "2  Entire home/apt    140               5                 57  2020-01-01   \n",
       "3  Entire home/apt    200               2                 54  2022-08-10   \n",
       "4  Entire home/apt     80               2                162  2020-02-16   \n",
       "\n",
       "   reviews_per_month  calculated_host_listings_count  availability_365  \\\n",
       "0               0.54                               1                11   \n",
       "1               3.30                               1               212   \n",
       "2               0.45                               1                 0   \n",
       "3               0.60                               1                 7   \n",
       "4               1.34                               1                 1   \n",
       "\n",
       "   number_of_reviews_ltm                   license      country       city  \n",
       "0                      2      03632A9BE56A736890D1  Netherlands  Amsterdam  \n",
       "1                     37  0363 9289 A94D 5C21 A579  Netherlands  Amsterdam  \n",
       "2                      0  0363 D990 F92F DECF 88D4  Netherlands  Amsterdam  \n",
       "3                      7  0363 35CD 76C9 04D4 1A21  Netherlands  Amsterdam  \n",
       "4                      0  0363 AD82 ADCF 17F3 C3EA  Netherlands  Amsterdam  "
      ]
     },
     "execution_count": 7,
     "metadata": {},
     "output_type": "execute_result"
    }
   ],
   "source": [
    "#checking the dataset\n",
    "df_ams.head()"
   ]
  },
  {
   "cell_type": "code",
   "execution_count": 8,
   "id": "ea81db22",
   "metadata": {},
   "outputs": [],
   "source": [
    "#importing the Antwerpen dataset\n",
    "df_ant=pd.read_csv(os.path.join(path, '02 Data','Original data',\"listings_ANT.csv\"), index_col=False)"
   ]
  },
  {
   "cell_type": "code",
   "execution_count": 9,
   "id": "9e93ddf4",
   "metadata": {},
   "outputs": [],
   "source": [
    "df_ant['country'] = 'Belgium'"
   ]
  },
  {
   "cell_type": "code",
   "execution_count": 10,
   "id": "53eb32a5",
   "metadata": {},
   "outputs": [],
   "source": [
    "df_ant['city'] = 'Antwerpen'"
   ]
  },
  {
   "cell_type": "code",
   "execution_count": 11,
   "id": "ad206ed9",
   "metadata": {},
   "outputs": [],
   "source": [
    "#imporitng the Athens dataset\n",
    "df_ath=pd.read_csv(os.path.join(path, '02 Data','Original data',\"listings_ATH.csv\"), index_col=False)"
   ]
  },
  {
   "cell_type": "code",
   "execution_count": 12,
   "id": "67f05b97",
   "metadata": {},
   "outputs": [],
   "source": [
    "df_ath['country'] = 'Greece'"
   ]
  },
  {
   "cell_type": "code",
   "execution_count": 13,
   "id": "2d56a45a",
   "metadata": {},
   "outputs": [],
   "source": [
    "df_ath['city'] = 'Athens'"
   ]
  },
  {
   "cell_type": "code",
   "execution_count": 14,
   "id": "959114ed",
   "metadata": {},
   "outputs": [],
   "source": [
    "#importing the Barcelona data\n",
    "df_bcn=pd.read_csv(os.path.join(path, '02 Data','Original data',\"listings_BCN.csv\"), index_col=False)"
   ]
  },
  {
   "cell_type": "code",
   "execution_count": 15,
   "id": "707350dc",
   "metadata": {},
   "outputs": [],
   "source": [
    "df_bcn['country']='Spain'"
   ]
  },
  {
   "cell_type": "code",
   "execution_count": 16,
   "id": "30f9c862",
   "metadata": {},
   "outputs": [],
   "source": [
    "df_bcn['city'] = 'Barcelona'"
   ]
  },
  {
   "cell_type": "code",
   "execution_count": 17,
   "id": "3b6ef520",
   "metadata": {},
   "outputs": [],
   "source": [
    "#importing the Berlin data\n",
    "df_ber=pd.read_csv(os.path.join(path, '02 Data','Original data',\"listings_BER.csv\"), index_col=False)"
   ]
  },
  {
   "cell_type": "code",
   "execution_count": 18,
   "id": "90d290a9",
   "metadata": {},
   "outputs": [],
   "source": [
    "df_ber['country'] = 'Germany'"
   ]
  },
  {
   "cell_type": "code",
   "execution_count": 19,
   "id": "27c8450a",
   "metadata": {},
   "outputs": [],
   "source": [
    "df_ber['city'] = 'Berlin'"
   ]
  },
  {
   "cell_type": "code",
   "execution_count": 20,
   "id": "c2575f57",
   "metadata": {},
   "outputs": [],
   "source": [
    "#importing the Bologna data\n",
    "df_bol=pd.read_csv(os.path.join(path, '02 Data','Original data',\"listings_bol.csv\"), index_col=False)"
   ]
  },
  {
   "cell_type": "code",
   "execution_count": 21,
   "id": "f9323b49",
   "metadata": {},
   "outputs": [],
   "source": [
    "df_bol['country'] = 'Italy'"
   ]
  },
  {
   "cell_type": "code",
   "execution_count": 22,
   "id": "d85ef41c",
   "metadata": {},
   "outputs": [],
   "source": [
    "df_bol['city'] = 'Bologna'"
   ]
  },
  {
   "cell_type": "code",
   "execution_count": 23,
   "id": "5dbc0ac7",
   "metadata": {},
   "outputs": [],
   "source": [
    "#importing the Bordeaux data\n",
    "df_bor=pd.read_csv(os.path.join(path, '02 Data','Original data',\"listings_BOR.csv\"), index_col=False)"
   ]
  },
  {
   "cell_type": "code",
   "execution_count": 24,
   "id": "a5412880",
   "metadata": {},
   "outputs": [],
   "source": [
    "df_bor['country'] = 'France'"
   ]
  },
  {
   "cell_type": "code",
   "execution_count": 25,
   "id": "6ba1bc0d",
   "metadata": {},
   "outputs": [],
   "source": [
    "df_bor['city'] = 'Bordeaux'"
   ]
  },
  {
   "cell_type": "code",
   "execution_count": 26,
   "id": "5f1d2d59",
   "metadata": {},
   "outputs": [],
   "source": [
    "#importing the Bristol data\n",
    "df_bri=pd.read_csv(os.path.join(path, '02 Data','Original data',\"listings_BRI.csv\"), index_col=False)"
   ]
  },
  {
   "cell_type": "code",
   "execution_count": 27,
   "id": "6aef2ede",
   "metadata": {},
   "outputs": [],
   "source": [
    "df_bri['country'] = 'United Kingdom'"
   ]
  },
  {
   "cell_type": "code",
   "execution_count": 28,
   "id": "e986df27",
   "metadata": {},
   "outputs": [],
   "source": [
    "df_bri['city'] = 'Bristol'"
   ]
  },
  {
   "cell_type": "markdown",
   "id": "b46515b5",
   "metadata": {},
   "source": [
    "**It is necessary to change the \"prize\" column from pounds to euros. To do so the column \"price\" will first be renamed as \"price_local\", the values will be multiplied using the pound-euro exchange rate in decemeber (1.13) to update the \"price\" category**"
   ]
  },
  {
   "cell_type": "code",
   "execution_count": 29,
   "id": "0a4374c9",
   "metadata": {},
   "outputs": [],
   "source": [
    "df_bri['price_local']=df_bri['price']"
   ]
  },
  {
   "cell_type": "code",
   "execution_count": 30,
   "id": "20cf7ecb",
   "metadata": {},
   "outputs": [],
   "source": [
    "df_bri['price'] = (df_bri['price_local']*1.13).round(0).astype(int)"
   ]
  },
  {
   "cell_type": "code",
   "execution_count": 31,
   "id": "28ff8ef7",
   "metadata": {},
   "outputs": [
    {
     "data": {
      "text/html": [
       "<div>\n",
       "<style scoped>\n",
       "    .dataframe tbody tr th:only-of-type {\n",
       "        vertical-align: middle;\n",
       "    }\n",
       "\n",
       "    .dataframe tbody tr th {\n",
       "        vertical-align: top;\n",
       "    }\n",
       "\n",
       "    .dataframe thead th {\n",
       "        text-align: right;\n",
       "    }\n",
       "</style>\n",
       "<table border=\"1\" class=\"dataframe\">\n",
       "  <thead>\n",
       "    <tr style=\"text-align: right;\">\n",
       "      <th></th>\n",
       "      <th>id</th>\n",
       "      <th>name</th>\n",
       "      <th>host_id</th>\n",
       "      <th>host_name</th>\n",
       "      <th>neighbourhood_group</th>\n",
       "      <th>neighbourhood</th>\n",
       "      <th>latitude</th>\n",
       "      <th>longitude</th>\n",
       "      <th>room_type</th>\n",
       "      <th>price</th>\n",
       "      <th>minimum_nights</th>\n",
       "      <th>number_of_reviews</th>\n",
       "      <th>last_review</th>\n",
       "      <th>reviews_per_month</th>\n",
       "      <th>calculated_host_listings_count</th>\n",
       "      <th>availability_365</th>\n",
       "      <th>number_of_reviews_ltm</th>\n",
       "      <th>license</th>\n",
       "      <th>country</th>\n",
       "      <th>city</th>\n",
       "      <th>price_local</th>\n",
       "    </tr>\n",
       "  </thead>\n",
       "  <tbody>\n",
       "    <tr>\n",
       "      <th>0</th>\n",
       "      <td>70820</td>\n",
       "      <td>City View - Sarah's double room.</td>\n",
       "      <td>360195</td>\n",
       "      <td>Sarah</td>\n",
       "      <td>NaN</td>\n",
       "      <td>Windmill Hill</td>\n",
       "      <td>51.43994</td>\n",
       "      <td>-2.59173</td>\n",
       "      <td>Private room</td>\n",
       "      <td>46</td>\n",
       "      <td>3</td>\n",
       "      <td>179</td>\n",
       "      <td>2022-09-22</td>\n",
       "      <td>1.60</td>\n",
       "      <td>5</td>\n",
       "      <td>0</td>\n",
       "      <td>19</td>\n",
       "      <td>NaN</td>\n",
       "      <td>United Kingdom</td>\n",
       "      <td>Bristol</td>\n",
       "      <td>41</td>\n",
       "    </tr>\n",
       "    <tr>\n",
       "      <th>1</th>\n",
       "      <td>117122</td>\n",
       "      <td>City Centre-Waterside Retreat</td>\n",
       "      <td>591555</td>\n",
       "      <td>Marcus</td>\n",
       "      <td>NaN</td>\n",
       "      <td>Clifton</td>\n",
       "      <td>51.45051</td>\n",
       "      <td>-2.61054</td>\n",
       "      <td>Private room</td>\n",
       "      <td>108</td>\n",
       "      <td>1</td>\n",
       "      <td>172</td>\n",
       "      <td>2022-12-11</td>\n",
       "      <td>1.23</td>\n",
       "      <td>1</td>\n",
       "      <td>357</td>\n",
       "      <td>18</td>\n",
       "      <td>NaN</td>\n",
       "      <td>United Kingdom</td>\n",
       "      <td>Bristol</td>\n",
       "      <td>96</td>\n",
       "    </tr>\n",
       "    <tr>\n",
       "      <th>2</th>\n",
       "      <td>176306</td>\n",
       "      <td>The White Room -  Central Bristol Art House Ga...</td>\n",
       "      <td>708175</td>\n",
       "      <td>Orla</td>\n",
       "      <td>NaN</td>\n",
       "      <td>Bedminster</td>\n",
       "      <td>51.44101</td>\n",
       "      <td>-2.60121</td>\n",
       "      <td>Private room</td>\n",
       "      <td>36</td>\n",
       "      <td>5</td>\n",
       "      <td>43</td>\n",
       "      <td>2022-11-23</td>\n",
       "      <td>0.35</td>\n",
       "      <td>1</td>\n",
       "      <td>33</td>\n",
       "      <td>4</td>\n",
       "      <td>NaN</td>\n",
       "      <td>United Kingdom</td>\n",
       "      <td>Bristol</td>\n",
       "      <td>32</td>\n",
       "    </tr>\n",
       "    <tr>\n",
       "      <th>3</th>\n",
       "      <td>307634</td>\n",
       "      <td>'The Sunset Room' Peaceful, Clear Home</td>\n",
       "      <td>1582810</td>\n",
       "      <td>Wendy</td>\n",
       "      <td>NaN</td>\n",
       "      <td>Easton</td>\n",
       "      <td>51.46641</td>\n",
       "      <td>-2.55533</td>\n",
       "      <td>Private room</td>\n",
       "      <td>43</td>\n",
       "      <td>6</td>\n",
       "      <td>31</td>\n",
       "      <td>2022-11-29</td>\n",
       "      <td>0.46</td>\n",
       "      <td>3</td>\n",
       "      <td>169</td>\n",
       "      <td>7</td>\n",
       "      <td>NaN</td>\n",
       "      <td>United Kingdom</td>\n",
       "      <td>Bristol</td>\n",
       "      <td>38</td>\n",
       "    </tr>\n",
       "    <tr>\n",
       "      <th>4</th>\n",
       "      <td>341227</td>\n",
       "      <td>Listed Georgian house in the heart of Bristol.</td>\n",
       "      <td>237360</td>\n",
       "      <td>Samantha</td>\n",
       "      <td>NaN</td>\n",
       "      <td>Ashley</td>\n",
       "      <td>51.46661</td>\n",
       "      <td>-2.58709</td>\n",
       "      <td>Entire home/apt</td>\n",
       "      <td>750</td>\n",
       "      <td>2</td>\n",
       "      <td>109</td>\n",
       "      <td>2022-10-02</td>\n",
       "      <td>0.84</td>\n",
       "      <td>1</td>\n",
       "      <td>89</td>\n",
       "      <td>11</td>\n",
       "      <td>NaN</td>\n",
       "      <td>United Kingdom</td>\n",
       "      <td>Bristol</td>\n",
       "      <td>664</td>\n",
       "    </tr>\n",
       "  </tbody>\n",
       "</table>\n",
       "</div>"
      ],
      "text/plain": [
       "       id                                               name  host_id  \\\n",
       "0   70820                   City View - Sarah's double room.   360195   \n",
       "1  117122                      City Centre-Waterside Retreat   591555   \n",
       "2  176306  The White Room -  Central Bristol Art House Ga...   708175   \n",
       "3  307634             'The Sunset Room' Peaceful, Clear Home  1582810   \n",
       "4  341227     Listed Georgian house in the heart of Bristol.   237360   \n",
       "\n",
       "  host_name  neighbourhood_group  neighbourhood  latitude  longitude  \\\n",
       "0     Sarah                  NaN  Windmill Hill  51.43994   -2.59173   \n",
       "1    Marcus                  NaN        Clifton  51.45051   -2.61054   \n",
       "2      Orla                  NaN     Bedminster  51.44101   -2.60121   \n",
       "3     Wendy                  NaN         Easton  51.46641   -2.55533   \n",
       "4  Samantha                  NaN         Ashley  51.46661   -2.58709   \n",
       "\n",
       "         room_type  price  minimum_nights  number_of_reviews last_review  \\\n",
       "0     Private room     46               3                179  2022-09-22   \n",
       "1     Private room    108               1                172  2022-12-11   \n",
       "2     Private room     36               5                 43  2022-11-23   \n",
       "3     Private room     43               6                 31  2022-11-29   \n",
       "4  Entire home/apt    750               2                109  2022-10-02   \n",
       "\n",
       "   reviews_per_month  calculated_host_listings_count  availability_365  \\\n",
       "0               1.60                               5                 0   \n",
       "1               1.23                               1               357   \n",
       "2               0.35                               1                33   \n",
       "3               0.46                               3               169   \n",
       "4               0.84                               1                89   \n",
       "\n",
       "   number_of_reviews_ltm  license         country     city  price_local  \n",
       "0                     19      NaN  United Kingdom  Bristol           41  \n",
       "1                     18      NaN  United Kingdom  Bristol           96  \n",
       "2                      4      NaN  United Kingdom  Bristol           32  \n",
       "3                      7      NaN  United Kingdom  Bristol           38  \n",
       "4                     11      NaN  United Kingdom  Bristol          664  "
      ]
     },
     "execution_count": 31,
     "metadata": {},
     "output_type": "execute_result"
    }
   ],
   "source": [
    "#checking the changes\n",
    "df_bri.head()"
   ]
  },
  {
   "cell_type": "code",
   "execution_count": 32,
   "id": "9d17d9a3",
   "metadata": {},
   "outputs": [],
   "source": [
    "#importing the Brussels data\n",
    "df_bru=pd.read_csv(os.path.join(path, '02 Data','Original data',\"listings_BRU.csv\"), index_col=False)"
   ]
  },
  {
   "cell_type": "code",
   "execution_count": 33,
   "id": "1e385c96",
   "metadata": {},
   "outputs": [],
   "source": [
    "df_bru['country'] = 'Belgium'"
   ]
  },
  {
   "cell_type": "code",
   "execution_count": 34,
   "id": "ba739415",
   "metadata": {},
   "outputs": [],
   "source": [
    "df_bru['city'] = 'Brussels'"
   ]
  },
  {
   "cell_type": "code",
   "execution_count": 35,
   "id": "ded2c357",
   "metadata": {},
   "outputs": [],
   "source": [
    "#importing the Copenhagen data\n",
    "df_cop=pd.read_csv(os.path.join(path, '02 Data','Original data',\"listings_COP.csv\"), index_col=False)"
   ]
  },
  {
   "cell_type": "code",
   "execution_count": 36,
   "id": "3b8cb826",
   "metadata": {},
   "outputs": [],
   "source": [
    "df_cop['country'] = 'Denmark'"
   ]
  },
  {
   "cell_type": "code",
   "execution_count": 37,
   "id": "5533d66f",
   "metadata": {},
   "outputs": [],
   "source": [
    "df_cop['city'] = 'Copenhagen'"
   ]
  },
  {
   "cell_type": "code",
   "execution_count": 38,
   "id": "66d09ef4",
   "metadata": {},
   "outputs": [],
   "source": [
    "#converting the currency (exchange rate 0.13)\n",
    "df_cop['price_local'] = df_cop['price']"
   ]
  },
  {
   "cell_type": "code",
   "execution_count": 39,
   "id": "94064f63",
   "metadata": {},
   "outputs": [],
   "source": [
    "df_cop['price'] = (df_cop['price_local']*0.13).round(0).astype(int)"
   ]
  },
  {
   "cell_type": "code",
   "execution_count": 40,
   "id": "b6807a3b",
   "metadata": {},
   "outputs": [
    {
     "data": {
      "text/html": [
       "<div>\n",
       "<style scoped>\n",
       "    .dataframe tbody tr th:only-of-type {\n",
       "        vertical-align: middle;\n",
       "    }\n",
       "\n",
       "    .dataframe tbody tr th {\n",
       "        vertical-align: top;\n",
       "    }\n",
       "\n",
       "    .dataframe thead th {\n",
       "        text-align: right;\n",
       "    }\n",
       "</style>\n",
       "<table border=\"1\" class=\"dataframe\">\n",
       "  <thead>\n",
       "    <tr style=\"text-align: right;\">\n",
       "      <th></th>\n",
       "      <th>id</th>\n",
       "      <th>name</th>\n",
       "      <th>host_id</th>\n",
       "      <th>host_name</th>\n",
       "      <th>neighbourhood_group</th>\n",
       "      <th>neighbourhood</th>\n",
       "      <th>latitude</th>\n",
       "      <th>longitude</th>\n",
       "      <th>room_type</th>\n",
       "      <th>price</th>\n",
       "      <th>minimum_nights</th>\n",
       "      <th>number_of_reviews</th>\n",
       "      <th>last_review</th>\n",
       "      <th>reviews_per_month</th>\n",
       "      <th>calculated_host_listings_count</th>\n",
       "      <th>availability_365</th>\n",
       "      <th>number_of_reviews_ltm</th>\n",
       "      <th>license</th>\n",
       "      <th>country</th>\n",
       "      <th>city</th>\n",
       "      <th>price_local</th>\n",
       "    </tr>\n",
       "  </thead>\n",
       "  <tbody>\n",
       "    <tr>\n",
       "      <th>0</th>\n",
       "      <td>6983</td>\n",
       "      <td>Copenhagen 'N Livin'</td>\n",
       "      <td>16774</td>\n",
       "      <td>Simon</td>\n",
       "      <td>NaN</td>\n",
       "      <td>Nrrebro</td>\n",
       "      <td>55.68641</td>\n",
       "      <td>12.54741</td>\n",
       "      <td>Entire home/apt</td>\n",
       "      <td>106</td>\n",
       "      <td>3</td>\n",
       "      <td>172</td>\n",
       "      <td>2022-06-21</td>\n",
       "      <td>1.06</td>\n",
       "      <td>1</td>\n",
       "      <td>35</td>\n",
       "      <td>4</td>\n",
       "      <td>NaN</td>\n",
       "      <td>Denmark</td>\n",
       "      <td>Copenhagen</td>\n",
       "      <td>813</td>\n",
       "    </tr>\n",
       "    <tr>\n",
       "      <th>1</th>\n",
       "      <td>26057</td>\n",
       "      <td>Lovely house - most attractive area</td>\n",
       "      <td>109777</td>\n",
       "      <td>Kari</td>\n",
       "      <td>NaN</td>\n",
       "      <td>Indre By</td>\n",
       "      <td>55.69307</td>\n",
       "      <td>12.57649</td>\n",
       "      <td>Entire home/apt</td>\n",
       "      <td>338</td>\n",
       "      <td>4</td>\n",
       "      <td>59</td>\n",
       "      <td>2022-08-09</td>\n",
       "      <td>0.53</td>\n",
       "      <td>1</td>\n",
       "      <td>196</td>\n",
       "      <td>4</td>\n",
       "      <td>NaN</td>\n",
       "      <td>Denmark</td>\n",
       "      <td>Copenhagen</td>\n",
       "      <td>2600</td>\n",
       "    </tr>\n",
       "    <tr>\n",
       "      <th>2</th>\n",
       "      <td>26473</td>\n",
       "      <td>City Centre Townhouse Sleeps 1-10 persons</td>\n",
       "      <td>112210</td>\n",
       "      <td>Julia</td>\n",
       "      <td>NaN</td>\n",
       "      <td>Indre By</td>\n",
       "      <td>55.67602</td>\n",
       "      <td>12.57540</td>\n",
       "      <td>Entire home/apt</td>\n",
       "      <td>378</td>\n",
       "      <td>3</td>\n",
       "      <td>311</td>\n",
       "      <td>2022-12-13</td>\n",
       "      <td>2.09</td>\n",
       "      <td>8</td>\n",
       "      <td>91</td>\n",
       "      <td>18</td>\n",
       "      <td>NaN</td>\n",
       "      <td>Denmark</td>\n",
       "      <td>Copenhagen</td>\n",
       "      <td>2907</td>\n",
       "    </tr>\n",
       "    <tr>\n",
       "      <th>3</th>\n",
       "      <td>443684</td>\n",
       "      <td>Penthouse, 4-5 rooms + 5 balconies</td>\n",
       "      <td>2204282</td>\n",
       "      <td>Sidsel</td>\n",
       "      <td>NaN</td>\n",
       "      <td>Nrrebro</td>\n",
       "      <td>55.70238</td>\n",
       "      <td>12.54765</td>\n",
       "      <td>Entire home/apt</td>\n",
       "      <td>421</td>\n",
       "      <td>2</td>\n",
       "      <td>436</td>\n",
       "      <td>2022-11-06</td>\n",
       "      <td>3.39</td>\n",
       "      <td>1</td>\n",
       "      <td>128</td>\n",
       "      <td>5</td>\n",
       "      <td>NaN</td>\n",
       "      <td>Denmark</td>\n",
       "      <td>Copenhagen</td>\n",
       "      <td>3240</td>\n",
       "    </tr>\n",
       "    <tr>\n",
       "      <th>4</th>\n",
       "      <td>678372</td>\n",
       "      <td>Christianshavn Central Copenhagen</td>\n",
       "      <td>3343139</td>\n",
       "      <td>Tue</td>\n",
       "      <td>NaN</td>\n",
       "      <td>Indre By</td>\n",
       "      <td>55.67112</td>\n",
       "      <td>12.59165</td>\n",
       "      <td>Entire home/apt</td>\n",
       "      <td>208</td>\n",
       "      <td>3</td>\n",
       "      <td>44</td>\n",
       "      <td>2022-08-26</td>\n",
       "      <td>0.36</td>\n",
       "      <td>1</td>\n",
       "      <td>31</td>\n",
       "      <td>5</td>\n",
       "      <td>NaN</td>\n",
       "      <td>Denmark</td>\n",
       "      <td>Copenhagen</td>\n",
       "      <td>1600</td>\n",
       "    </tr>\n",
       "  </tbody>\n",
       "</table>\n",
       "</div>"
      ],
      "text/plain": [
       "       id                                       name  host_id host_name  \\\n",
       "0    6983                       Copenhagen 'N Livin'    16774     Simon   \n",
       "1   26057        Lovely house - most attractive area   109777      Kari   \n",
       "2   26473  City Centre Townhouse Sleeps 1-10 persons   112210     Julia   \n",
       "3  443684         Penthouse, 4-5 rooms + 5 balconies  2204282    Sidsel   \n",
       "4  678372          Christianshavn Central Copenhagen  3343139       Tue   \n",
       "\n",
       "   neighbourhood_group neighbourhood  latitude  longitude        room_type  \\\n",
       "0                  NaN       Nrrebro  55.68641   12.54741  Entire home/apt   \n",
       "1                  NaN      Indre By  55.69307   12.57649  Entire home/apt   \n",
       "2                  NaN      Indre By  55.67602   12.57540  Entire home/apt   \n",
       "3                  NaN       Nrrebro  55.70238   12.54765  Entire home/apt   \n",
       "4                  NaN      Indre By  55.67112   12.59165  Entire home/apt   \n",
       "\n",
       "   price  minimum_nights  number_of_reviews last_review  reviews_per_month  \\\n",
       "0    106               3                172  2022-06-21               1.06   \n",
       "1    338               4                 59  2022-08-09               0.53   \n",
       "2    378               3                311  2022-12-13               2.09   \n",
       "3    421               2                436  2022-11-06               3.39   \n",
       "4    208               3                 44  2022-08-26               0.36   \n",
       "\n",
       "   calculated_host_listings_count  availability_365  number_of_reviews_ltm  \\\n",
       "0                               1                35                      4   \n",
       "1                               1               196                      4   \n",
       "2                               8                91                     18   \n",
       "3                               1               128                      5   \n",
       "4                               1                31                      5   \n",
       "\n",
       "   license  country        city  price_local  \n",
       "0      NaN  Denmark  Copenhagen          813  \n",
       "1      NaN  Denmark  Copenhagen         2600  \n",
       "2      NaN  Denmark  Copenhagen         2907  \n",
       "3      NaN  Denmark  Copenhagen         3240  \n",
       "4      NaN  Denmark  Copenhagen         1600  "
      ]
     },
     "execution_count": 40,
     "metadata": {},
     "output_type": "execute_result"
    }
   ],
   "source": [
    "#checking the results\n",
    "df_cop.head()"
   ]
  },
  {
   "cell_type": "code",
   "execution_count": 41,
   "id": "750cfd46",
   "metadata": {},
   "outputs": [],
   "source": [
    "#importing the Dublin data\n",
    "df_dub=pd.read_csv(os.path.join(path, '02 Data','Original data',\"listings_DUB.csv\"), index_col=False)"
   ]
  },
  {
   "cell_type": "code",
   "execution_count": 42,
   "id": "246d06db",
   "metadata": {},
   "outputs": [],
   "source": [
    "df_dub['country'] = 'Ireland'"
   ]
  },
  {
   "cell_type": "code",
   "execution_count": 43,
   "id": "f8adb719",
   "metadata": {},
   "outputs": [],
   "source": [
    "df_dub['city'] = 'Dublin'"
   ]
  },
  {
   "cell_type": "code",
   "execution_count": 44,
   "id": "82007fb0",
   "metadata": {},
   "outputs": [],
   "source": [
    "# Importing the Edinburgh data\n",
    "df_edi=pd.read_csv(os.path.join(path, '02 Data','Original data',\"listings_EDI.csv\"), index_col=False)"
   ]
  },
  {
   "cell_type": "code",
   "execution_count": 45,
   "id": "491bf5bd",
   "metadata": {},
   "outputs": [],
   "source": [
    "df_edi['country'] = 'United Kingdom'"
   ]
  },
  {
   "cell_type": "code",
   "execution_count": 46,
   "id": "e69541db",
   "metadata": {},
   "outputs": [],
   "source": [
    "df_edi['city'] = 'Edinburgh'"
   ]
  },
  {
   "cell_type": "code",
   "execution_count": 47,
   "id": "7d873f0f",
   "metadata": {},
   "outputs": [],
   "source": [
    "# converting the currency (exchange rate 1.13)\n",
    "df_edi['price_local'] = df_edi['price']"
   ]
  },
  {
   "cell_type": "code",
   "execution_count": 48,
   "id": "9e25c63e",
   "metadata": {},
   "outputs": [],
   "source": [
    "df_edi['price'] = (df_edi['price_local']*1.13).round(0).astype(int)"
   ]
  },
  {
   "cell_type": "code",
   "execution_count": 49,
   "id": "db396479",
   "metadata": {},
   "outputs": [],
   "source": [
    "# importing the Florence data\n",
    "df_flo=pd.read_csv(os.path.join(path, '02 Data','Original data',\"listings_FLO.csv\"), index_col=False)"
   ]
  },
  {
   "cell_type": "code",
   "execution_count": 50,
   "id": "1842bb71",
   "metadata": {},
   "outputs": [],
   "source": [
    "df_flo['country'] = 'Italy'"
   ]
  },
  {
   "cell_type": "code",
   "execution_count": 51,
   "id": "54058bdd",
   "metadata": {},
   "outputs": [],
   "source": [
    "df_flo['city'] = 'Florence'"
   ]
  },
  {
   "cell_type": "code",
   "execution_count": 52,
   "id": "1253ee9f",
   "metadata": {},
   "outputs": [],
   "source": [
    "#Importing the Geneva data, given that the exchange rate CHF-EUR is 1, there is no need to transform the currency\n",
    "df_gen=pd.read_csv(os.path.join(path, '02 Data','Original data',\"listings_GEN.csv\"), index_col=False)"
   ]
  },
  {
   "cell_type": "code",
   "execution_count": 53,
   "id": "759fa64e",
   "metadata": {},
   "outputs": [],
   "source": [
    "df_gen['country'] = 'Switzerland'"
   ]
  },
  {
   "cell_type": "code",
   "execution_count": 54,
   "id": "3c441e48",
   "metadata": {},
   "outputs": [],
   "source": [
    "df_gen['city'] = 'Geneva'"
   ]
  },
  {
   "cell_type": "code",
   "execution_count": 55,
   "id": "e7b2930a",
   "metadata": {},
   "outputs": [],
   "source": [
    "#Importing the Ghent data\n",
    "df_ghn=pd.read_csv(os.path.join(path, '02 Data','Original data',\"listings_GHN.csv\"), index_col=False)"
   ]
  },
  {
   "cell_type": "code",
   "execution_count": 56,
   "id": "be9dd0f6",
   "metadata": {},
   "outputs": [],
   "source": [
    "df_ghn['country'] = 'Belgium'"
   ]
  },
  {
   "cell_type": "code",
   "execution_count": 57,
   "id": "7b748f91",
   "metadata": {},
   "outputs": [],
   "source": [
    "df_ghn['city'] = 'Ghent'"
   ]
  },
  {
   "cell_type": "code",
   "execution_count": 58,
   "id": "e79011f3",
   "metadata": {},
   "outputs": [],
   "source": [
    "#importing the Istanbul data\n",
    "df_ist=pd.read_csv(os.path.join(path, '02 Data','Original data',\"listings_IST.csv\"), index_col=False)"
   ]
  },
  {
   "cell_type": "code",
   "execution_count": 59,
   "id": "2edb67f8",
   "metadata": {},
   "outputs": [],
   "source": [
    "df_ist['country'] = 'Turkey'"
   ]
  },
  {
   "cell_type": "code",
   "execution_count": 60,
   "id": "b2b638a7",
   "metadata": {},
   "outputs": [],
   "source": [
    "df_ist['city'] = 'Istanbul'"
   ]
  },
  {
   "cell_type": "code",
   "execution_count": 61,
   "id": "1b2e791e",
   "metadata": {},
   "outputs": [],
   "source": [
    "#converting the currency (exchange rate 0.05)\n",
    "df_ist['price_local'] = df_ist['price']"
   ]
  },
  {
   "cell_type": "code",
   "execution_count": 62,
   "id": "af26b278",
   "metadata": {},
   "outputs": [],
   "source": [
    "df_ist['price'] = (df_ist['price_local']*0.05).round(0).astype(int)"
   ]
  },
  {
   "cell_type": "code",
   "execution_count": 63,
   "id": "97568a71",
   "metadata": {},
   "outputs": [
    {
     "data": {
      "text/html": [
       "<div>\n",
       "<style scoped>\n",
       "    .dataframe tbody tr th:only-of-type {\n",
       "        vertical-align: middle;\n",
       "    }\n",
       "\n",
       "    .dataframe tbody tr th {\n",
       "        vertical-align: top;\n",
       "    }\n",
       "\n",
       "    .dataframe thead th {\n",
       "        text-align: right;\n",
       "    }\n",
       "</style>\n",
       "<table border=\"1\" class=\"dataframe\">\n",
       "  <thead>\n",
       "    <tr style=\"text-align: right;\">\n",
       "      <th></th>\n",
       "      <th>id</th>\n",
       "      <th>name</th>\n",
       "      <th>host_id</th>\n",
       "      <th>host_name</th>\n",
       "      <th>neighbourhood_group</th>\n",
       "      <th>neighbourhood</th>\n",
       "      <th>latitude</th>\n",
       "      <th>longitude</th>\n",
       "      <th>room_type</th>\n",
       "      <th>price</th>\n",
       "      <th>minimum_nights</th>\n",
       "      <th>number_of_reviews</th>\n",
       "      <th>last_review</th>\n",
       "      <th>reviews_per_month</th>\n",
       "      <th>calculated_host_listings_count</th>\n",
       "      <th>availability_365</th>\n",
       "      <th>number_of_reviews_ltm</th>\n",
       "      <th>license</th>\n",
       "      <th>country</th>\n",
       "      <th>city</th>\n",
       "      <th>price_local</th>\n",
       "    </tr>\n",
       "  </thead>\n",
       "  <tbody>\n",
       "    <tr>\n",
       "      <th>0</th>\n",
       "      <td>247874</td>\n",
       "      <td>Istiklal Avenue,Sadri alisik street</td>\n",
       "      <td>1298849</td>\n",
       "      <td>Berkan</td>\n",
       "      <td>NaN</td>\n",
       "      <td>Beyoglu</td>\n",
       "      <td>41.03333</td>\n",
       "      <td>28.98030</td>\n",
       "      <td>Entire home/apt</td>\n",
       "      <td>29</td>\n",
       "      <td>2</td>\n",
       "      <td>197</td>\n",
       "      <td>2022-11-29</td>\n",
       "      <td>1.50</td>\n",
       "      <td>1</td>\n",
       "      <td>39</td>\n",
       "      <td>26</td>\n",
       "      <td>NaN</td>\n",
       "      <td>Turkey</td>\n",
       "      <td>Istanbul</td>\n",
       "      <td>588</td>\n",
       "    </tr>\n",
       "    <tr>\n",
       "      <th>1</th>\n",
       "      <td>618156</td>\n",
       "      <td>Sultanahmet-Istanbul, Adalar Suite</td>\n",
       "      <td>2999837</td>\n",
       "      <td>Saban</td>\n",
       "      <td>NaN</td>\n",
       "      <td>Fatih</td>\n",
       "      <td>41.00417</td>\n",
       "      <td>28.96604</td>\n",
       "      <td>Entire home/apt</td>\n",
       "      <td>44</td>\n",
       "      <td>1</td>\n",
       "      <td>89</td>\n",
       "      <td>2022-11-06</td>\n",
       "      <td>0.72</td>\n",
       "      <td>13</td>\n",
       "      <td>354</td>\n",
       "      <td>17</td>\n",
       "      <td>NaN</td>\n",
       "      <td>Turkey</td>\n",
       "      <td>Istanbul</td>\n",
       "      <td>879</td>\n",
       "    </tr>\n",
       "    <tr>\n",
       "      <th>2</th>\n",
       "      <td>253055</td>\n",
       "      <td>CIHANGIR | Stunning Bosphorus View!</td>\n",
       "      <td>852380</td>\n",
       "      <td>Ilker</td>\n",
       "      <td>NaN</td>\n",
       "      <td>Beyoglu</td>\n",
       "      <td>41.03375</td>\n",
       "      <td>28.98324</td>\n",
       "      <td>Entire home/apt</td>\n",
       "      <td>157</td>\n",
       "      <td>3</td>\n",
       "      <td>86</td>\n",
       "      <td>2022-11-20</td>\n",
       "      <td>0.64</td>\n",
       "      <td>5</td>\n",
       "      <td>319</td>\n",
       "      <td>15</td>\n",
       "      <td>NaN</td>\n",
       "      <td>Turkey</td>\n",
       "      <td>Istanbul</td>\n",
       "      <td>3139</td>\n",
       "    </tr>\n",
       "    <tr>\n",
       "      <th>3</th>\n",
       "      <td>620129</td>\n",
       "      <td>Unique Concept in the Old City (Studio 1)</td>\n",
       "      <td>3072862</td>\n",
       "      <td>Levent</td>\n",
       "      <td>NaN</td>\n",
       "      <td>Fatih</td>\n",
       "      <td>41.00456</td>\n",
       "      <td>28.97980</td>\n",
       "      <td>Private room</td>\n",
       "      <td>216</td>\n",
       "      <td>1</td>\n",
       "      <td>17</td>\n",
       "      <td>2022-04-30</td>\n",
       "      <td>0.14</td>\n",
       "      <td>5</td>\n",
       "      <td>306</td>\n",
       "      <td>2</td>\n",
       "      <td>NaN</td>\n",
       "      <td>Turkey</td>\n",
       "      <td>Istanbul</td>\n",
       "      <td>4315</td>\n",
       "    </tr>\n",
       "    <tr>\n",
       "      <th>4</th>\n",
       "      <td>27271</td>\n",
       "      <td>Lovely apartment in perfect location</td>\n",
       "      <td>117026</td>\n",
       "      <td>Mutlu</td>\n",
       "      <td>NaN</td>\n",
       "      <td>Beyoglu</td>\n",
       "      <td>41.03254</td>\n",
       "      <td>28.98153</td>\n",
       "      <td>Entire home/apt</td>\n",
       "      <td>50</td>\n",
       "      <td>10</td>\n",
       "      <td>4</td>\n",
       "      <td>2022-11-01</td>\n",
       "      <td>0.04</td>\n",
       "      <td>1</td>\n",
       "      <td>272</td>\n",
       "      <td>2</td>\n",
       "      <td>NaN</td>\n",
       "      <td>Turkey</td>\n",
       "      <td>Istanbul</td>\n",
       "      <td>999</td>\n",
       "    </tr>\n",
       "  </tbody>\n",
       "</table>\n",
       "</div>"
      ],
      "text/plain": [
       "       id                                       name  host_id host_name  \\\n",
       "0  247874        Istiklal Avenue,Sadri alisik street  1298849    Berkan   \n",
       "1  618156         Sultanahmet-Istanbul, Adalar Suite  2999837     Saban   \n",
       "2  253055        CIHANGIR | Stunning Bosphorus View!   852380     Ilker   \n",
       "3  620129  Unique Concept in the Old City (Studio 1)  3072862    Levent   \n",
       "4   27271       Lovely apartment in perfect location   117026     Mutlu   \n",
       "\n",
       "   neighbourhood_group neighbourhood  latitude  longitude        room_type  \\\n",
       "0                  NaN       Beyoglu  41.03333   28.98030  Entire home/apt   \n",
       "1                  NaN         Fatih  41.00417   28.96604  Entire home/apt   \n",
       "2                  NaN       Beyoglu  41.03375   28.98324  Entire home/apt   \n",
       "3                  NaN         Fatih  41.00456   28.97980     Private room   \n",
       "4                  NaN       Beyoglu  41.03254   28.98153  Entire home/apt   \n",
       "\n",
       "   price  minimum_nights  number_of_reviews last_review  reviews_per_month  \\\n",
       "0     29               2                197  2022-11-29               1.50   \n",
       "1     44               1                 89  2022-11-06               0.72   \n",
       "2    157               3                 86  2022-11-20               0.64   \n",
       "3    216               1                 17  2022-04-30               0.14   \n",
       "4     50              10                  4  2022-11-01               0.04   \n",
       "\n",
       "   calculated_host_listings_count  availability_365  number_of_reviews_ltm  \\\n",
       "0                               1                39                     26   \n",
       "1                              13               354                     17   \n",
       "2                               5               319                     15   \n",
       "3                               5               306                      2   \n",
       "4                               1               272                      2   \n",
       "\n",
       "   license country      city  price_local  \n",
       "0      NaN  Turkey  Istanbul          588  \n",
       "1      NaN  Turkey  Istanbul          879  \n",
       "2      NaN  Turkey  Istanbul         3139  \n",
       "3      NaN  Turkey  Istanbul         4315  \n",
       "4      NaN  Turkey  Istanbul          999  "
      ]
     },
     "execution_count": 63,
     "metadata": {},
     "output_type": "execute_result"
    }
   ],
   "source": [
    "df_ist.head()"
   ]
  },
  {
   "cell_type": "code",
   "execution_count": 64,
   "id": "276154a3",
   "metadata": {},
   "outputs": [],
   "source": [
    "#importing the Lisboa data\n",
    "df_lis=pd.read_csv(os.path.join(path, '02 Data','Original data',\"listings_LIS.csv\"), index_col=False)"
   ]
  },
  {
   "cell_type": "code",
   "execution_count": 65,
   "id": "c37024ea",
   "metadata": {},
   "outputs": [],
   "source": [
    "df_lis['country'] = 'Portugal'"
   ]
  },
  {
   "cell_type": "code",
   "execution_count": 66,
   "id": "1919581c",
   "metadata": {},
   "outputs": [],
   "source": [
    "df_lis['city'] = 'Lisboa'"
   ]
  },
  {
   "cell_type": "code",
   "execution_count": 67,
   "id": "e70e7b50",
   "metadata": {},
   "outputs": [],
   "source": [
    "#importing the London data\n",
    "df_lon=pd.read_csv(os.path.join(path, '02 Data','Original Data',\"listings_LON.csv\"), index_col=False)"
   ]
  },
  {
   "cell_type": "code",
   "execution_count": 68,
   "id": "987053f3",
   "metadata": {},
   "outputs": [],
   "source": [
    "df_lon['country'] = 'United Kingdom'"
   ]
  },
  {
   "cell_type": "code",
   "execution_count": 69,
   "id": "27a5dc5c",
   "metadata": {},
   "outputs": [],
   "source": [
    "df_lon['city'] = 'London'"
   ]
  },
  {
   "cell_type": "code",
   "execution_count": 70,
   "id": "1d3dfa4d",
   "metadata": {},
   "outputs": [],
   "source": [
    "# converting the currency (exchange rate 1.13)\n",
    "df_lon['price_local']=df_lon['price']"
   ]
  },
  {
   "cell_type": "code",
   "execution_count": 71,
   "id": "1756b445",
   "metadata": {},
   "outputs": [],
   "source": [
    "df_lon['price'] = (df_lon['price_local'] * 1.13).round(0).astype(int)"
   ]
  },
  {
   "cell_type": "code",
   "execution_count": 72,
   "id": "4882148d",
   "metadata": {},
   "outputs": [],
   "source": [
    "#There is a problem with the 'last_review' column in the london dataframe, i'll be dropping the column\n",
    "df_lon_clean = df_lon.drop(columns=['last_review'])"
   ]
  },
  {
   "cell_type": "code",
   "execution_count": 73,
   "id": "8ad3b3bb",
   "metadata": {},
   "outputs": [],
   "source": [
    "#importing the Lyon data\n",
    "df_lyo=pd.read_csv(os.path.join(path, '02 Data','Original Data',\"listings_LYO.csv\"), index_col=False)"
   ]
  },
  {
   "cell_type": "code",
   "execution_count": 74,
   "id": "5ca23c21",
   "metadata": {},
   "outputs": [],
   "source": [
    "df_lyo['country'] = 'France'"
   ]
  },
  {
   "cell_type": "code",
   "execution_count": 75,
   "id": "9a425219",
   "metadata": {},
   "outputs": [],
   "source": [
    "df_lyo['city'] = 'Lyon'"
   ]
  },
  {
   "cell_type": "code",
   "execution_count": 76,
   "id": "42a66eab",
   "metadata": {},
   "outputs": [],
   "source": [
    "#importing the Madrid data\n",
    "df_mad=pd.read_csv(os.path.join(path, '02 Data','Original Data',\"listings_MAD.csv\"), index_col=False)"
   ]
  },
  {
   "cell_type": "code",
   "execution_count": 77,
   "id": "38f08989",
   "metadata": {},
   "outputs": [],
   "source": [
    "df_mad['country'] = 'Spain'"
   ]
  },
  {
   "cell_type": "code",
   "execution_count": 78,
   "id": "4d100b06",
   "metadata": {},
   "outputs": [],
   "source": [
    "df_mad['city'] = 'Madrid'"
   ]
  },
  {
   "cell_type": "code",
   "execution_count": 79,
   "id": "8bdaaff8",
   "metadata": {},
   "outputs": [],
   "source": [
    "#Importing the Malaga data\n",
    "df_mal=pd.read_csv(os.path.join(path, '02 Data','Original Data',\"listings_MAL.csv\"), index_col=False)"
   ]
  },
  {
   "cell_type": "code",
   "execution_count": 80,
   "id": "9ddaa38c",
   "metadata": {},
   "outputs": [],
   "source": [
    "df_mal['country'] = 'Spain'"
   ]
  },
  {
   "cell_type": "code",
   "execution_count": 81,
   "id": "9525e0c2",
   "metadata": {},
   "outputs": [],
   "source": [
    "df_mal['city'] = 'Malaga'"
   ]
  },
  {
   "cell_type": "code",
   "execution_count": 82,
   "id": "1623d60b",
   "metadata": {},
   "outputs": [],
   "source": [
    "# Importing the Milan data\n",
    "df_mil=pd.read_csv(os.path.join(path, '02 Data','Original Data',\"listings_MIL.csv\"), index_col=False)"
   ]
  },
  {
   "cell_type": "code",
   "execution_count": 83,
   "id": "45d091b2",
   "metadata": {},
   "outputs": [],
   "source": [
    "df_mil['country'] = 'Italy'"
   ]
  },
  {
   "cell_type": "code",
   "execution_count": 84,
   "id": "cc8cf957",
   "metadata": {},
   "outputs": [],
   "source": [
    "df_mil['city'] = 'Milan'"
   ]
  },
  {
   "cell_type": "code",
   "execution_count": 85,
   "id": "6ad4d4c2",
   "metadata": {},
   "outputs": [],
   "source": [
    "#Importing the Munich data\n",
    "df_mun=pd.read_csv(os.path.join(path, '02 Data','Original Data',\"listings_MUN.csv\"), index_col=False)"
   ]
  },
  {
   "cell_type": "code",
   "execution_count": 86,
   "id": "d8f22390",
   "metadata": {},
   "outputs": [],
   "source": [
    "df_mun['country'] = 'Germany'"
   ]
  },
  {
   "cell_type": "code",
   "execution_count": 87,
   "id": "88e80305",
   "metadata": {},
   "outputs": [],
   "source": [
    "df_mun['city'] = 'Munich'"
   ]
  },
  {
   "cell_type": "code",
   "execution_count": 88,
   "id": "62d79acc",
   "metadata": {},
   "outputs": [],
   "source": [
    "#Importing the Naples data\n",
    "df_nap=pd.read_csv(os.path.join(path, '02 Data','Original Data',\"listings_NAP.csv\"), index_col=False)"
   ]
  },
  {
   "cell_type": "code",
   "execution_count": 89,
   "id": "9ce7971b",
   "metadata": {},
   "outputs": [],
   "source": [
    "df_nap['country'] = 'Italy'"
   ]
  },
  {
   "cell_type": "code",
   "execution_count": 90,
   "id": "5fdc4485",
   "metadata": {},
   "outputs": [],
   "source": [
    "df_nap['city'] = 'Naples'"
   ]
  },
  {
   "cell_type": "code",
   "execution_count": 91,
   "id": "2eaa1c96",
   "metadata": {},
   "outputs": [],
   "source": [
    "#importing the Oslo data\n",
    "df_osl=pd.read_csv(os.path.join(path, '02 Data','Original Data',\"listings_OSL.csv\"), index_col=False)"
   ]
  },
  {
   "cell_type": "code",
   "execution_count": 92,
   "id": "8d81104f",
   "metadata": {},
   "outputs": [],
   "source": [
    "df_osl['country'] = 'Norway'"
   ]
  },
  {
   "cell_type": "code",
   "execution_count": 93,
   "id": "58732498",
   "metadata": {},
   "outputs": [],
   "source": [
    "df_osl['city'] = 'Oslo'"
   ]
  },
  {
   "cell_type": "code",
   "execution_count": 94,
   "id": "94a67f6f",
   "metadata": {},
   "outputs": [],
   "source": [
    "#Converting the currency (exchange rate 0.09)\n",
    "df_osl['price_local'] = df_osl['price']"
   ]
  },
  {
   "cell_type": "code",
   "execution_count": 95,
   "id": "431f9b31",
   "metadata": {},
   "outputs": [],
   "source": [
    "df_osl['price'] = (df_osl['price_local'] * 0.09).round(0).astype(int)"
   ]
  },
  {
   "cell_type": "code",
   "execution_count": 96,
   "id": "78c3e0ec",
   "metadata": {},
   "outputs": [],
   "source": [
    "#importing the Paris data\n",
    "df_par=pd.read_csv(os.path.join(path, '02 Data','Original Data',\"listings_PAR.csv\"), index_col=False)"
   ]
  },
  {
   "cell_type": "code",
   "execution_count": 97,
   "id": "1a81206c",
   "metadata": {},
   "outputs": [],
   "source": [
    "df_par['country'] = 'France'"
   ]
  },
  {
   "cell_type": "code",
   "execution_count": 98,
   "id": "546f0f7e",
   "metadata": {},
   "outputs": [],
   "source": [
    "df_par['city'] = 'Paris'"
   ]
  },
  {
   "cell_type": "code",
   "execution_count": 99,
   "id": "ea59c3d1",
   "metadata": {},
   "outputs": [],
   "source": [
    "#importing the Porto data\n",
    "df_por=pd.read_csv(os.path.join(path, '02 Data','Original Data',\"listings_por.csv\"), index_col=False)"
   ]
  },
  {
   "cell_type": "code",
   "execution_count": 100,
   "id": "b7ba765e",
   "metadata": {},
   "outputs": [],
   "source": [
    "df_por['country'] = 'Portugal'"
   ]
  },
  {
   "cell_type": "code",
   "execution_count": 101,
   "id": "3b5225a5",
   "metadata": {},
   "outputs": [],
   "source": [
    "df_por['city'] = 'Porto'"
   ]
  },
  {
   "cell_type": "code",
   "execution_count": 102,
   "id": "702e7d12",
   "metadata": {},
   "outputs": [],
   "source": [
    "#importing the Prague data\n",
    "df_pra=pd.read_csv(os.path.join(path, '02 Data','Original Data',\"listings_PRA.csv\"), index_col=False)"
   ]
  },
  {
   "cell_type": "code",
   "execution_count": 103,
   "id": "911f93bd",
   "metadata": {},
   "outputs": [],
   "source": [
    "df_pra['country'] = 'Czechia'"
   ]
  },
  {
   "cell_type": "code",
   "execution_count": 104,
   "id": "68ed2050",
   "metadata": {},
   "outputs": [],
   "source": [
    "df_pra['city'] = 'Prague'"
   ]
  },
  {
   "cell_type": "code",
   "execution_count": 105,
   "id": "27e2f67a",
   "metadata": {},
   "outputs": [],
   "source": [
    "#converting the currency (exchnage rate 0.043)\n",
    "df_pra['price_local'] = df_pra['price']"
   ]
  },
  {
   "cell_type": "code",
   "execution_count": 106,
   "id": "1b2041e4",
   "metadata": {},
   "outputs": [],
   "source": [
    "df_pra['price'] = (df_pra['price_local']*0.043).round(0).astype(int)"
   ]
  },
  {
   "cell_type": "code",
   "execution_count": 107,
   "id": "68163da3",
   "metadata": {},
   "outputs": [],
   "source": [
    "#importing the Riga data\n",
    "df_rig=pd.read_csv(os.path.join(path, '02 Data','Original Data',\"listings_RIG.csv\"), index_col=False)"
   ]
  },
  {
   "cell_type": "code",
   "execution_count": 108,
   "id": "ebbe19b8",
   "metadata": {},
   "outputs": [],
   "source": [
    "df_rig['country'] = 'Latvia'"
   ]
  },
  {
   "cell_type": "code",
   "execution_count": 109,
   "id": "550a237b",
   "metadata": {},
   "outputs": [],
   "source": [
    "df_rig['city'] = 'Riga'"
   ]
  },
  {
   "cell_type": "code",
   "execution_count": 110,
   "id": "2c312206",
   "metadata": {},
   "outputs": [],
   "source": [
    "#importing the Rome data\n",
    "df_rom=pd.read_csv(os.path.join(path, '02 Data','Original Data',\"listings_ROM.csv\"), index_col=False)"
   ]
  },
  {
   "cell_type": "code",
   "execution_count": 111,
   "id": "f2a4638e",
   "metadata": {},
   "outputs": [],
   "source": [
    "df_rom['country'] = 'italy'"
   ]
  },
  {
   "cell_type": "code",
   "execution_count": 112,
   "id": "ed865e4b",
   "metadata": {},
   "outputs": [],
   "source": [
    "df_rom['city'] = 'Rome'"
   ]
  },
  {
   "cell_type": "code",
   "execution_count": 113,
   "id": "addb35c5",
   "metadata": {},
   "outputs": [],
   "source": [
    "#importing the Rotterdam data\n",
    "df_rot=pd.read_csv(os.path.join(path, '02 Data','Original Data',\"listings_ROT.csv\"), index_col=False)"
   ]
  },
  {
   "cell_type": "code",
   "execution_count": 114,
   "id": "4e7fb409",
   "metadata": {},
   "outputs": [],
   "source": [
    "df_rot['country'] = 'Netherlands'"
   ]
  },
  {
   "cell_type": "code",
   "execution_count": 115,
   "id": "9af14ae1",
   "metadata": {},
   "outputs": [],
   "source": [
    "df_rot['city'] = 'Rotterdam'"
   ]
  },
  {
   "cell_type": "code",
   "execution_count": 116,
   "id": "c45ca348",
   "metadata": {},
   "outputs": [],
   "source": [
    "#importing the Sevilla data\n",
    "df_sev=pd.read_csv(os.path.join(path, '02 Data','Original Data',\"listings_SEV.csv\"), index_col=False)"
   ]
  },
  {
   "cell_type": "code",
   "execution_count": 117,
   "id": "7201bbfb",
   "metadata": {},
   "outputs": [],
   "source": [
    "df_sev['country'] = 'Spain'"
   ]
  },
  {
   "cell_type": "code",
   "execution_count": 118,
   "id": "7924e256",
   "metadata": {},
   "outputs": [],
   "source": [
    "df_sev['city'] = 'Sevilla'"
   ]
  },
  {
   "cell_type": "code",
   "execution_count": 119,
   "id": "3e5063dc",
   "metadata": {},
   "outputs": [],
   "source": [
    "#importing the Stockholm data\n",
    "df_sto=pd.read_csv(os.path.join(path, '02 Data','Original Data',\"listings_STO.csv\"), index_col=False)"
   ]
  },
  {
   "cell_type": "code",
   "execution_count": 120,
   "id": "b2e20a32",
   "metadata": {},
   "outputs": [],
   "source": [
    "df_sto['country'] = 'Sweden'"
   ]
  },
  {
   "cell_type": "code",
   "execution_count": 121,
   "id": "dd50a349",
   "metadata": {},
   "outputs": [],
   "source": [
    "df_sto['city'] = 'Stockholm'"
   ]
  },
  {
   "cell_type": "code",
   "execution_count": 122,
   "id": "dbcb1fad",
   "metadata": {},
   "outputs": [],
   "source": [
    "#converting the currency (exchange rate 0.09)\n",
    "df_sto['price_local'] = df_sto['price']"
   ]
  },
  {
   "cell_type": "code",
   "execution_count": 123,
   "id": "ce1efe2b",
   "metadata": {},
   "outputs": [],
   "source": [
    "df_sto['price'] = (df_sto['price_local']*0.09).round(0).astype(int)"
   ]
  },
  {
   "cell_type": "code",
   "execution_count": 124,
   "id": "677b393c",
   "metadata": {},
   "outputs": [
    {
     "data": {
      "text/html": [
       "<div>\n",
       "<style scoped>\n",
       "    .dataframe tbody tr th:only-of-type {\n",
       "        vertical-align: middle;\n",
       "    }\n",
       "\n",
       "    .dataframe tbody tr th {\n",
       "        vertical-align: top;\n",
       "    }\n",
       "\n",
       "    .dataframe thead th {\n",
       "        text-align: right;\n",
       "    }\n",
       "</style>\n",
       "<table border=\"1\" class=\"dataframe\">\n",
       "  <thead>\n",
       "    <tr style=\"text-align: right;\">\n",
       "      <th></th>\n",
       "      <th>id</th>\n",
       "      <th>name</th>\n",
       "      <th>host_id</th>\n",
       "      <th>host_name</th>\n",
       "      <th>neighbourhood_group</th>\n",
       "      <th>neighbourhood</th>\n",
       "      <th>latitude</th>\n",
       "      <th>longitude</th>\n",
       "      <th>room_type</th>\n",
       "      <th>price</th>\n",
       "      <th>minimum_nights</th>\n",
       "      <th>number_of_reviews</th>\n",
       "      <th>last_review</th>\n",
       "      <th>reviews_per_month</th>\n",
       "      <th>calculated_host_listings_count</th>\n",
       "      <th>availability_365</th>\n",
       "      <th>number_of_reviews_ltm</th>\n",
       "      <th>license</th>\n",
       "      <th>country</th>\n",
       "      <th>city</th>\n",
       "      <th>price_local</th>\n",
       "    </tr>\n",
       "  </thead>\n",
       "  <tbody>\n",
       "    <tr>\n",
       "      <th>0</th>\n",
       "      <td>75590</td>\n",
       "      <td>Amazing nature location by a lake</td>\n",
       "      <td>397766</td>\n",
       "      <td>Peter</td>\n",
       "      <td>NaN</td>\n",
       "      <td>Skarpnäcks</td>\n",
       "      <td>59.30117</td>\n",
       "      <td>18.12833</td>\n",
       "      <td>Entire home/apt</td>\n",
       "      <td>85</td>\n",
       "      <td>30</td>\n",
       "      <td>10</td>\n",
       "      <td>2016-07-08</td>\n",
       "      <td>0.09</td>\n",
       "      <td>1</td>\n",
       "      <td>178</td>\n",
       "      <td>0</td>\n",
       "      <td>NaN</td>\n",
       "      <td>Sweden</td>\n",
       "      <td>Stockholm</td>\n",
       "      <td>949</td>\n",
       "    </tr>\n",
       "    <tr>\n",
       "      <th>1</th>\n",
       "      <td>164448</td>\n",
       "      <td>Double room in central Stockholm with Wi-Fi</td>\n",
       "      <td>784312</td>\n",
       "      <td>Li</td>\n",
       "      <td>NaN</td>\n",
       "      <td>Södermalms</td>\n",
       "      <td>59.31389</td>\n",
       "      <td>18.06087</td>\n",
       "      <td>Private room</td>\n",
       "      <td>78</td>\n",
       "      <td>3</td>\n",
       "      <td>355</td>\n",
       "      <td>2022-11-27</td>\n",
       "      <td>2.55</td>\n",
       "      <td>2</td>\n",
       "      <td>177</td>\n",
       "      <td>33</td>\n",
       "      <td>NaN</td>\n",
       "      <td>Sweden</td>\n",
       "      <td>Stockholm</td>\n",
       "      <td>864</td>\n",
       "    </tr>\n",
       "    <tr>\n",
       "      <th>2</th>\n",
       "      <td>170651</td>\n",
       "      <td>Petit Charm Rooftop next to heaven</td>\n",
       "      <td>814021</td>\n",
       "      <td>Marie</td>\n",
       "      <td>NaN</td>\n",
       "      <td>Södermalms</td>\n",
       "      <td>59.31702</td>\n",
       "      <td>18.02946</td>\n",
       "      <td>Entire home/apt</td>\n",
       "      <td>95</td>\n",
       "      <td>4</td>\n",
       "      <td>42</td>\n",
       "      <td>2022-10-02</td>\n",
       "      <td>0.30</td>\n",
       "      <td>1</td>\n",
       "      <td>248</td>\n",
       "      <td>3</td>\n",
       "      <td>NaN</td>\n",
       "      <td>Sweden</td>\n",
       "      <td>Stockholm</td>\n",
       "      <td>1055</td>\n",
       "    </tr>\n",
       "    <tr>\n",
       "      <th>3</th>\n",
       "      <td>206221</td>\n",
       "      <td>Doubleroom at Södermalm &amp;trendySofo</td>\n",
       "      <td>1022374</td>\n",
       "      <td>Elisabeth</td>\n",
       "      <td>NaN</td>\n",
       "      <td>Södermalms</td>\n",
       "      <td>59.31074</td>\n",
       "      <td>18.08128</td>\n",
       "      <td>Shared room</td>\n",
       "      <td>60</td>\n",
       "      <td>3</td>\n",
       "      <td>79</td>\n",
       "      <td>2019-12-08</td>\n",
       "      <td>0.59</td>\n",
       "      <td>1</td>\n",
       "      <td>360</td>\n",
       "      <td>0</td>\n",
       "      <td>NaN</td>\n",
       "      <td>Sweden</td>\n",
       "      <td>Stockholm</td>\n",
       "      <td>669</td>\n",
       "    </tr>\n",
       "    <tr>\n",
       "      <th>4</th>\n",
       "      <td>208366</td>\n",
       "      <td>Central apt. in Sofo .Perfect 4 Families &amp; Kids</td>\n",
       "      <td>993889</td>\n",
       "      <td>Bartholomew Lion</td>\n",
       "      <td>NaN</td>\n",
       "      <td>Södermalms</td>\n",
       "      <td>59.30903</td>\n",
       "      <td>18.08032</td>\n",
       "      <td>Entire home/apt</td>\n",
       "      <td>75</td>\n",
       "      <td>3</td>\n",
       "      <td>41</td>\n",
       "      <td>2021-12-20</td>\n",
       "      <td>0.32</td>\n",
       "      <td>1</td>\n",
       "      <td>4</td>\n",
       "      <td>0</td>\n",
       "      <td>NaN</td>\n",
       "      <td>Sweden</td>\n",
       "      <td>Stockholm</td>\n",
       "      <td>829</td>\n",
       "    </tr>\n",
       "  </tbody>\n",
       "</table>\n",
       "</div>"
      ],
      "text/plain": [
       "       id                                             name  host_id  \\\n",
       "0   75590                Amazing nature location by a lake   397766   \n",
       "1  164448      Double room in central Stockholm with Wi-Fi   784312   \n",
       "2  170651               Petit Charm Rooftop next to heaven   814021   \n",
       "3  206221              Doubleroom at Södermalm &trendySofo  1022374   \n",
       "4  208366  Central apt. in Sofo .Perfect 4 Families & Kids   993889   \n",
       "\n",
       "          host_name  neighbourhood_group neighbourhood  latitude  longitude  \\\n",
       "0             Peter                  NaN    Skarpnäcks  59.30117   18.12833   \n",
       "1                Li                  NaN    Södermalms  59.31389   18.06087   \n",
       "2             Marie                  NaN    Södermalms  59.31702   18.02946   \n",
       "3         Elisabeth                  NaN    Södermalms  59.31074   18.08128   \n",
       "4  Bartholomew Lion                  NaN    Södermalms  59.30903   18.08032   \n",
       "\n",
       "         room_type  price  minimum_nights  number_of_reviews last_review  \\\n",
       "0  Entire home/apt     85              30                 10  2016-07-08   \n",
       "1     Private room     78               3                355  2022-11-27   \n",
       "2  Entire home/apt     95               4                 42  2022-10-02   \n",
       "3      Shared room     60               3                 79  2019-12-08   \n",
       "4  Entire home/apt     75               3                 41  2021-12-20   \n",
       "\n",
       "   reviews_per_month  calculated_host_listings_count  availability_365  \\\n",
       "0               0.09                               1               178   \n",
       "1               2.55                               2               177   \n",
       "2               0.30                               1               248   \n",
       "3               0.59                               1               360   \n",
       "4               0.32                               1                 4   \n",
       "\n",
       "   number_of_reviews_ltm  license country       city  price_local  \n",
       "0                      0      NaN  Sweden  Stockholm          949  \n",
       "1                     33      NaN  Sweden  Stockholm          864  \n",
       "2                      3      NaN  Sweden  Stockholm         1055  \n",
       "3                      0      NaN  Sweden  Stockholm          669  \n",
       "4                      0      NaN  Sweden  Stockholm          829  "
      ]
     },
     "execution_count": 124,
     "metadata": {},
     "output_type": "execute_result"
    }
   ],
   "source": [
    "df_sto.head()"
   ]
  },
  {
   "cell_type": "code",
   "execution_count": 125,
   "id": "258bbee0",
   "metadata": {},
   "outputs": [],
   "source": [
    "#importing the Thessaloniki data\n",
    "df_tes=pd.read_csv(os.path.join(path, '02 Data','Original Data',\"listings_TES.csv\"), index_col=False)"
   ]
  },
  {
   "cell_type": "code",
   "execution_count": 126,
   "id": "a0a37171",
   "metadata": {},
   "outputs": [],
   "source": [
    "df_tes['country'] = 'Greece'"
   ]
  },
  {
   "cell_type": "code",
   "execution_count": 127,
   "id": "72735470",
   "metadata": {},
   "outputs": [],
   "source": [
    "df_tes['city'] = 'Thessaloniki'"
   ]
  },
  {
   "cell_type": "code",
   "execution_count": 128,
   "id": "e024e94b",
   "metadata": {},
   "outputs": [],
   "source": [
    "#importing the The Hague data\n",
    "df_thg=pd.read_csv(os.path.join(path, '02 Data','Original Data',\"listings_THG.csv\"), index_col=False)"
   ]
  },
  {
   "cell_type": "code",
   "execution_count": 129,
   "id": "ffa44d65",
   "metadata": {},
   "outputs": [],
   "source": [
    "df_thg['country'] = 'Netherlands'"
   ]
  },
  {
   "cell_type": "code",
   "execution_count": 130,
   "id": "002bcf50",
   "metadata": {},
   "outputs": [],
   "source": [
    "df_thg['city'] = 'The Hague'"
   ]
  },
  {
   "cell_type": "code",
   "execution_count": 131,
   "id": "0ee30279",
   "metadata": {},
   "outputs": [],
   "source": [
    "# importing the Venice data\n",
    "df_ven=pd.read_csv(os.path.join(path, '02 Data','Original Data',\"listings_VEN.csv\"), index_col=False)"
   ]
  },
  {
   "cell_type": "code",
   "execution_count": 132,
   "id": "bc2f36ab",
   "metadata": {},
   "outputs": [],
   "source": [
    "df_ven['country'] = 'Italy'"
   ]
  },
  {
   "cell_type": "code",
   "execution_count": 133,
   "id": "a42e7c2b",
   "metadata": {},
   "outputs": [],
   "source": [
    "df_ven['city'] = 'Venice'"
   ]
  },
  {
   "cell_type": "code",
   "execution_count": 134,
   "id": "d6695b25",
   "metadata": {},
   "outputs": [],
   "source": [
    "#Importing the Vienna data\n",
    "df_vie=pd.read_csv(os.path.join(path, '02 Data','Original Data',\"listings_VIE.csv\"), index_col=False)"
   ]
  },
  {
   "cell_type": "code",
   "execution_count": 135,
   "id": "fb934358",
   "metadata": {},
   "outputs": [],
   "source": [
    "df_vie['country'] = 'Austria'"
   ]
  },
  {
   "cell_type": "code",
   "execution_count": 136,
   "id": "3daee753",
   "metadata": {},
   "outputs": [],
   "source": [
    "df_vie['city'] = 'Vienna'"
   ]
  },
  {
   "cell_type": "code",
   "execution_count": 137,
   "id": "46b45cef",
   "metadata": {},
   "outputs": [],
   "source": [
    "#importing the Valencia data\n",
    "df_vlc=pd.read_csv(os.path.join(path, '02 Data','Original Data',\"listings_VLC.csv\"), index_col=False)"
   ]
  },
  {
   "cell_type": "code",
   "execution_count": 138,
   "id": "0079f961",
   "metadata": {},
   "outputs": [],
   "source": [
    "df_vlc['country'] = 'Spain'"
   ]
  },
  {
   "cell_type": "code",
   "execution_count": 139,
   "id": "b82af7cc",
   "metadata": {},
   "outputs": [],
   "source": [
    "df_vlc['city'] = 'Valencia'"
   ]
  },
  {
   "cell_type": "code",
   "execution_count": 140,
   "id": "a34722a3",
   "metadata": {},
   "outputs": [],
   "source": [
    "#importing the Zurich data\n",
    "df_zur=pd.read_csv(os.path.join(path, '02 Data','Original Data',\"listings_ZUR.csv\"), index_col=False)"
   ]
  },
  {
   "cell_type": "code",
   "execution_count": 141,
   "id": "ade0f504",
   "metadata": {},
   "outputs": [],
   "source": [
    "df_zur['country'] = 'Switzerland'"
   ]
  },
  {
   "cell_type": "code",
   "execution_count": 142,
   "id": "b70021f6",
   "metadata": {},
   "outputs": [],
   "source": [
    "df_zur['city'] = 'Zurich'"
   ]
  },
  {
   "cell_type": "code",
   "execution_count": 143,
   "id": "fd7e6585",
   "metadata": {},
   "outputs": [],
   "source": [
    "#importing the bergamo data\n",
    "df_berg=pd.read_csv(os.path.join(path, '02 Data','Original Data',\"listings_berg.csv\"), index_col=False)"
   ]
  },
  {
   "cell_type": "code",
   "execution_count": 144,
   "id": "47deb7fb",
   "metadata": {},
   "outputs": [],
   "source": [
    "df_berg['country'] = 'Italy'"
   ]
  },
  {
   "cell_type": "code",
   "execution_count": 145,
   "id": "6267f16e",
   "metadata": {},
   "outputs": [],
   "source": [
    "df_berg['city'] = 'Bergamo'"
   ]
  },
  {
   "cell_type": "code",
   "execution_count": 146,
   "id": "f9a4b7e1",
   "metadata": {},
   "outputs": [],
   "source": [
    "#importing the Crete data\n",
    "df_cre=pd.read_csv(os.path.join(path, '02 Data','Original Data',\"listings_cre.csv\"), index_col=False)"
   ]
  },
  {
   "cell_type": "code",
   "execution_count": 147,
   "id": "5a945fe2",
   "metadata": {},
   "outputs": [],
   "source": [
    "df_cre['country'] = 'Greece'"
   ]
  },
  {
   "cell_type": "code",
   "execution_count": 148,
   "id": "b8506eb1",
   "metadata": {},
   "outputs": [],
   "source": [
    "df_cre['city'] = 'Crete'"
   ]
  },
  {
   "cell_type": "code",
   "execution_count": 149,
   "id": "49ab1600",
   "metadata": {},
   "outputs": [],
   "source": [
    "#importing the Euskadi data\n",
    "df_eus=pd.read_csv(os.path.join(path, '02 Data','Original Data',\"listings_eus.csv\"), index_col=False)"
   ]
  },
  {
   "cell_type": "code",
   "execution_count": 150,
   "id": "46a07ec8",
   "metadata": {},
   "outputs": [],
   "source": [
    "df_eus['country'] = 'Spain'"
   ]
  },
  {
   "cell_type": "code",
   "execution_count": 151,
   "id": "c30192d2",
   "metadata": {},
   "outputs": [],
   "source": [
    "df_eus['city'] = 'Euskadi'"
   ]
  },
  {
   "cell_type": "code",
   "execution_count": 152,
   "id": "b09b9be4",
   "metadata": {},
   "outputs": [],
   "source": [
    "#importing the Girona data\n",
    "df_gir=pd.read_csv(os.path.join(path, '02 Data','Original Data',\"listings_gir.csv\"), index_col=False)"
   ]
  },
  {
   "cell_type": "code",
   "execution_count": 153,
   "id": "5adf0793",
   "metadata": {},
   "outputs": [],
   "source": [
    "df_gir['country'] = 'Spain'"
   ]
  },
  {
   "cell_type": "code",
   "execution_count": 154,
   "id": "4af9e511",
   "metadata": {},
   "outputs": [],
   "source": [
    "df_gir['city'] = 'Girona'"
   ]
  },
  {
   "cell_type": "code",
   "execution_count": 155,
   "id": "92d5ea48",
   "metadata": {},
   "outputs": [],
   "source": [
    "#importing the Manchester data\n",
    "df_man=pd.read_csv(os.path.join(path, '02 Data','Original Data',\"listings_man.csv\"), index_col=False)"
   ]
  },
  {
   "cell_type": "code",
   "execution_count": 156,
   "id": "276ff931",
   "metadata": {},
   "outputs": [],
   "source": [
    "df_man['country'] = 'United Kingdom'"
   ]
  },
  {
   "cell_type": "code",
   "execution_count": 157,
   "id": "64fb5325",
   "metadata": {},
   "outputs": [],
   "source": [
    "df_man['city'] = 'Manchester'"
   ]
  },
  {
   "cell_type": "code",
   "execution_count": 158,
   "id": "1b5fb321",
   "metadata": {},
   "outputs": [],
   "source": [
    "df_man['price_local'] = df_man['price']"
   ]
  },
  {
   "cell_type": "code",
   "execution_count": 159,
   "id": "bf8d2358",
   "metadata": {},
   "outputs": [],
   "source": [
    "df_man['price'] = (df_man['price_local']*1.13).round(0).astype(int)"
   ]
  },
  {
   "cell_type": "code",
   "execution_count": 160,
   "id": "2c0689a2",
   "metadata": {},
   "outputs": [],
   "source": [
    "#importing the Mallorca data\n",
    "df_mll=pd.read_csv(os.path.join(path, '02 Data','Original Data',\"listings_mll.csv\"), index_col=False)"
   ]
  },
  {
   "cell_type": "code",
   "execution_count": 161,
   "id": "9f010335",
   "metadata": {},
   "outputs": [],
   "source": [
    "df_mll['country'] = 'Spain'"
   ]
  },
  {
   "cell_type": "code",
   "execution_count": 162,
   "id": "ebb316f9",
   "metadata": {},
   "outputs": [],
   "source": [
    "df_mll['city'] = 'Mallorca'"
   ]
  },
  {
   "cell_type": "code",
   "execution_count": 163,
   "id": "adbe4fdb",
   "metadata": {},
   "outputs": [],
   "source": [
    "#importing the Menorca data\n",
    "df_men=pd.read_csv(os.path.join(path, '02 Data','Original Data',\"listings_men.csv\"), index_col=False)"
   ]
  },
  {
   "cell_type": "code",
   "execution_count": 164,
   "id": "2b9899d5",
   "metadata": {},
   "outputs": [],
   "source": [
    "df_men['country'] = 'Spain'"
   ]
  },
  {
   "cell_type": "code",
   "execution_count": 165,
   "id": "4b995983",
   "metadata": {},
   "outputs": [],
   "source": [
    "df_men['city'] = 'Menorca'"
   ]
  },
  {
   "cell_type": "code",
   "execution_count": 166,
   "id": "ed17ee53",
   "metadata": {},
   "outputs": [],
   "source": [
    "#importing the Pays Basque data\n",
    "df_pba=pd.read_csv(os.path.join(path, '02 Data','Original Data',\"listings_pba.csv\"), index_col=False)"
   ]
  },
  {
   "cell_type": "code",
   "execution_count": 167,
   "id": "62fdddea",
   "metadata": {},
   "outputs": [],
   "source": [
    "df_pba['country'] = 'France'"
   ]
  },
  {
   "cell_type": "code",
   "execution_count": 168,
   "id": "b0026319",
   "metadata": {},
   "outputs": [],
   "source": [
    "df_pba['city'] = 'Pays Basque'"
   ]
  },
  {
   "cell_type": "code",
   "execution_count": 169,
   "id": "8a2ef0e5",
   "metadata": {},
   "outputs": [],
   "source": [
    "#importing the Puglia data\n",
    "df_pug=pd.read_csv(os.path.join(path, '02 Data','Original Data',\"listings_pug.csv\"), index_col=False)"
   ]
  },
  {
   "cell_type": "code",
   "execution_count": 170,
   "id": "0308e60b",
   "metadata": {},
   "outputs": [],
   "source": [
    "df_pug['country'] = 'Italy'"
   ]
  },
  {
   "cell_type": "code",
   "execution_count": 171,
   "id": "30cb7a49",
   "metadata": {},
   "outputs": [],
   "source": [
    "df_pug['city'] = 'Puglia'"
   ]
  },
  {
   "cell_type": "code",
   "execution_count": 172,
   "id": "2e0997fb",
   "metadata": {},
   "outputs": [],
   "source": [
    "#importing the Sicily data\n",
    "df_sic=pd.read_csv(os.path.join(path, '02 Data','Original Data',\"listings_sic.csv\"), index_col=False)"
   ]
  },
  {
   "cell_type": "code",
   "execution_count": 173,
   "id": "00637652",
   "metadata": {},
   "outputs": [],
   "source": [
    "df_sic['country'] = 'Italy'"
   ]
  },
  {
   "cell_type": "code",
   "execution_count": 174,
   "id": "95237ce7",
   "metadata": {},
   "outputs": [],
   "source": [
    "df_sic['city'] = 'Sicily'"
   ]
  },
  {
   "cell_type": "code",
   "execution_count": 175,
   "id": "43feee67",
   "metadata": {},
   "outputs": [],
   "source": [
    "#importing the South Aegea n data\n",
    "df_sag=pd.read_csv(os.path.join(path, '02 Data','Original Data',\"listings_sag.csv\"), index_col=False)"
   ]
  },
  {
   "cell_type": "code",
   "execution_count": 176,
   "id": "fd02a71c",
   "metadata": {},
   "outputs": [],
   "source": [
    "df_sag['country'] = 'Greece'"
   ]
  },
  {
   "cell_type": "code",
   "execution_count": 177,
   "id": "892ef8f6",
   "metadata": {},
   "outputs": [],
   "source": [
    "df_sag['city'] = 'South Aegean'"
   ]
  },
  {
   "cell_type": "code",
   "execution_count": 178,
   "id": "dead50a6",
   "metadata": {},
   "outputs": [],
   "source": [
    "#importing the Manchester data\n",
    "df_tre=pd.read_csv(os.path.join(path, '02 Data','Original Data',\"listings_tre.csv\"), index_col=False)"
   ]
  },
  {
   "cell_type": "code",
   "execution_count": 179,
   "id": "5976641c",
   "metadata": {},
   "outputs": [],
   "source": [
    "df_tre['country'] = 'Italy'"
   ]
  },
  {
   "cell_type": "code",
   "execution_count": 180,
   "id": "476e8580",
   "metadata": {},
   "outputs": [],
   "source": [
    "df_tre['city'] = 'Trentino'"
   ]
  },
  {
   "cell_type": "code",
   "execution_count": 181,
   "id": "60de2167",
   "metadata": {},
   "outputs": [],
   "source": [
    "#importing the Manchester data\n",
    "df_vau=pd.read_csv(os.path.join(path, '02 Data','Original Data',\"listings_vau.csv\"), index_col=False)"
   ]
  },
  {
   "cell_type": "code",
   "execution_count": 182,
   "id": "8a57c5c1",
   "metadata": {},
   "outputs": [],
   "source": [
    "df_vau['country'] = 'Switzerland'"
   ]
  },
  {
   "cell_type": "code",
   "execution_count": 183,
   "id": "bca7377d",
   "metadata": {},
   "outputs": [],
   "source": [
    "df_vau['city'] = 'Vaud'"
   ]
  },
  {
   "cell_type": "markdown",
   "id": "de8ec620",
   "metadata": {},
   "source": [
    "**2b. Concatenating the city dataframes** "
   ]
  },
  {
   "cell_type": "code",
   "execution_count": 184,
   "id": "83cfd916",
   "metadata": {},
   "outputs": [],
   "source": [
    "# uniting all the dataframes into a single \"df_europe\" dataframe\n",
    "frames = [df_ams, df_ant, df_ath, df_bcn, df_ber, df_bol, df_bor, df_bri, df_bru, df_cop, df_dub, df_edi, df_flo, df_gen, df_ghn, df_ist, df_lis, df_lon_clean, df_lyo, df_mad, df_mal, df_mil, df_mun, df_nap, df_osl, df_par, df_por, df_pra, df_rig, df_rom, df_rot, df_sev, df_sto, df_tes, df_thg, df_ven, df_vie, df_vlc, df_zur,df_berg, df_cre, df_eus, df_gir, df_man, df_mll, df_men, df_pba, df_pug, df_sic, df_sag, df_tre,df_vau]\n",
    "df_europe = pd.concat(frames)"
   ]
  },
  {
   "cell_type": "markdown",
   "id": "8464ea6a",
   "metadata": {},
   "source": [
    "## 03. Data quality check and data cleaning"
   ]
  },
  {
   "cell_type": "code",
   "execution_count": 185,
   "id": "53745b57",
   "metadata": {},
   "outputs": [
    {
     "data": {
      "text/plain": [
       "(683490, 21)"
      ]
     },
     "execution_count": 185,
     "metadata": {},
     "output_type": "execute_result"
    }
   ],
   "source": [
    "#preliminary queries\n",
    "df_europe.shape"
   ]
  },
  {
   "cell_type": "code",
   "execution_count": 186,
   "id": "2e878305",
   "metadata": {},
   "outputs": [
    {
     "name": "stdout",
     "output_type": "stream",
     "text": [
      "<class 'pandas.core.frame.DataFrame'>\n",
      "Int64Index: 683490 entries, 0 to 4981\n",
      "Data columns (total 21 columns):\n",
      " #   Column                          Non-Null Count   Dtype  \n",
      "---  ------                          --------------   -----  \n",
      " 0   id                              683490 non-null  int64  \n",
      " 1   name                            683307 non-null  object \n",
      " 2   host_id                         683490 non-null  int64  \n",
      " 3   host_name                       683303 non-null  object \n",
      " 4   neighbourhood_group             185770 non-null  object \n",
      " 5   neighbourhood                   683490 non-null  object \n",
      " 6   latitude                        683490 non-null  float64\n",
      " 7   longitude                       683490 non-null  float64\n",
      " 8   room_type                       683490 non-null  object \n",
      " 9   price                           683490 non-null  int64  \n",
      " 10  minimum_nights                  683490 non-null  int64  \n",
      " 11  number_of_reviews               683490 non-null  int64  \n",
      " 12  last_review                     484936 non-null  object \n",
      " 13  reviews_per_month               539751 non-null  float64\n",
      " 14  calculated_host_listings_count  683490 non-null  int64  \n",
      " 15  availability_365                683490 non-null  int64  \n",
      " 16  number_of_reviews_ltm           683490 non-null  int64  \n",
      " 17  license                         251257 non-null  object \n",
      " 18  country                         683490 non-null  object \n",
      " 19  city                            683490 non-null  object \n",
      " 20  price_local                     153828 non-null  float64\n",
      "dtypes: float64(4), int64(8), object(9)\n",
      "memory usage: 114.7+ MB\n"
     ]
    }
   ],
   "source": [
    "df_europe.info()"
   ]
  },
  {
   "cell_type": "code",
   "execution_count": 187,
   "id": "ba3c7ff8",
   "metadata": {},
   "outputs": [
    {
     "data": {
      "text/html": [
       "<div>\n",
       "<style scoped>\n",
       "    .dataframe tbody tr th:only-of-type {\n",
       "        vertical-align: middle;\n",
       "    }\n",
       "\n",
       "    .dataframe tbody tr th {\n",
       "        vertical-align: top;\n",
       "    }\n",
       "\n",
       "    .dataframe thead th {\n",
       "        text-align: right;\n",
       "    }\n",
       "</style>\n",
       "<table border=\"1\" class=\"dataframe\">\n",
       "  <thead>\n",
       "    <tr style=\"text-align: right;\">\n",
       "      <th></th>\n",
       "      <th>id</th>\n",
       "      <th>host_id</th>\n",
       "      <th>latitude</th>\n",
       "      <th>longitude</th>\n",
       "      <th>price</th>\n",
       "      <th>minimum_nights</th>\n",
       "      <th>number_of_reviews</th>\n",
       "      <th>reviews_per_month</th>\n",
       "      <th>calculated_host_listings_count</th>\n",
       "      <th>availability_365</th>\n",
       "      <th>number_of_reviews_ltm</th>\n",
       "      <th>price_local</th>\n",
       "    </tr>\n",
       "  </thead>\n",
       "  <tbody>\n",
       "    <tr>\n",
       "      <th>count</th>\n",
       "      <td>6.834900e+05</td>\n",
       "      <td>6.834900e+05</td>\n",
       "      <td>683490.000000</td>\n",
       "      <td>683490.000000</td>\n",
       "      <td>683490.000000</td>\n",
       "      <td>683490.000000</td>\n",
       "      <td>683490.000000</td>\n",
       "      <td>539751.000000</td>\n",
       "      <td>683490.000000</td>\n",
       "      <td>683490.000000</td>\n",
       "      <td>683490.000000</td>\n",
       "      <td>1.538280e+05</td>\n",
       "    </tr>\n",
       "    <tr>\n",
       "      <th>mean</th>\n",
       "      <td>1.760459e+17</td>\n",
       "      <td>1.542534e+08</td>\n",
       "      <td>44.325545</td>\n",
       "      <td>8.611037</td>\n",
       "      <td>226.060427</td>\n",
       "      <td>14.330435</td>\n",
       "      <td>28.508413</td>\n",
       "      <td>1.097590</td>\n",
       "      <td>16.296528</td>\n",
       "      <td>177.934024</td>\n",
       "      <td>8.376200</td>\n",
       "      <td>1.156020e+03</td>\n",
       "    </tr>\n",
       "    <tr>\n",
       "      <th>std</th>\n",
       "      <td>2.974760e+17</td>\n",
       "      <td>1.533737e+08</td>\n",
       "      <td>5.923721</td>\n",
       "      <td>10.351780</td>\n",
       "      <td>1469.276134</td>\n",
       "      <td>63.663856</td>\n",
       "      <td>61.085346</td>\n",
       "      <td>1.453219</td>\n",
       "      <td>60.918366</td>\n",
       "      <td>141.836200</td>\n",
       "      <td>16.345756</td>\n",
       "      <td>1.439684e+04</td>\n",
       "    </tr>\n",
       "    <tr>\n",
       "      <th>min</th>\n",
       "      <td>2.352000e+03</td>\n",
       "      <td>2.750000e+02</td>\n",
       "      <td>34.834420</td>\n",
       "      <td>-9.498520</td>\n",
       "      <td>0.000000</td>\n",
       "      <td>1.000000</td>\n",
       "      <td>0.000000</td>\n",
       "      <td>0.010000</td>\n",
       "      <td>1.000000</td>\n",
       "      <td>0.000000</td>\n",
       "      <td>0.000000</td>\n",
       "      <td>0.000000e+00</td>\n",
       "    </tr>\n",
       "    <tr>\n",
       "      <th>25%</th>\n",
       "      <td>2.008656e+07</td>\n",
       "      <td>2.371202e+07</td>\n",
       "      <td>39.857973</td>\n",
       "      <td>-0.087400</td>\n",
       "      <td>60.000000</td>\n",
       "      <td>1.000000</td>\n",
       "      <td>1.000000</td>\n",
       "      <td>0.190000</td>\n",
       "      <td>1.000000</td>\n",
       "      <td>16.000000</td>\n",
       "      <td>0.000000</td>\n",
       "      <td>9.100000e+01</td>\n",
       "    </tr>\n",
       "    <tr>\n",
       "      <th>50%</th>\n",
       "      <td>3.926198e+07</td>\n",
       "      <td>9.478181e+07</td>\n",
       "      <td>41.967525</td>\n",
       "      <td>8.543750</td>\n",
       "      <td>95.000000</td>\n",
       "      <td>2.000000</td>\n",
       "      <td>6.000000</td>\n",
       "      <td>0.570000</td>\n",
       "      <td>2.000000</td>\n",
       "      <td>177.000000</td>\n",
       "      <td>2.000000</td>\n",
       "      <td>2.670000e+02</td>\n",
       "    </tr>\n",
       "    <tr>\n",
       "      <th>75%</th>\n",
       "      <td>5.613984e+17</td>\n",
       "      <td>2.581546e+08</td>\n",
       "      <td>48.882710</td>\n",
       "      <td>15.110298</td>\n",
       "      <td>158.000000</td>\n",
       "      <td>4.000000</td>\n",
       "      <td>26.000000</td>\n",
       "      <td>1.450000</td>\n",
       "      <td>7.000000</td>\n",
       "      <td>332.000000</td>\n",
       "      <td>9.000000</td>\n",
       "      <td>1.100000e+03</td>\n",
       "    </tr>\n",
       "    <tr>\n",
       "      <th>max</th>\n",
       "      <td>8.192776e+17</td>\n",
       "      <td>4.993252e+08</td>\n",
       "      <td>60.038940</td>\n",
       "      <td>29.908120</td>\n",
       "      <td>100200.000000</td>\n",
       "      <td>6666.000000</td>\n",
       "      <td>2402.000000</td>\n",
       "      <td>106.740000</td>\n",
       "      <td>1062.000000</td>\n",
       "      <td>366.000000</td>\n",
       "      <td>1352.000000</td>\n",
       "      <td>1.871235e+06</td>\n",
       "    </tr>\n",
       "  </tbody>\n",
       "</table>\n",
       "</div>"
      ],
      "text/plain": [
       "                 id       host_id       latitude      longitude  \\\n",
       "count  6.834900e+05  6.834900e+05  683490.000000  683490.000000   \n",
       "mean   1.760459e+17  1.542534e+08      44.325545       8.611037   \n",
       "std    2.974760e+17  1.533737e+08       5.923721      10.351780   \n",
       "min    2.352000e+03  2.750000e+02      34.834420      -9.498520   \n",
       "25%    2.008656e+07  2.371202e+07      39.857973      -0.087400   \n",
       "50%    3.926198e+07  9.478181e+07      41.967525       8.543750   \n",
       "75%    5.613984e+17  2.581546e+08      48.882710      15.110298   \n",
       "max    8.192776e+17  4.993252e+08      60.038940      29.908120   \n",
       "\n",
       "               price  minimum_nights  number_of_reviews  reviews_per_month  \\\n",
       "count  683490.000000   683490.000000      683490.000000      539751.000000   \n",
       "mean      226.060427       14.330435          28.508413           1.097590   \n",
       "std      1469.276134       63.663856          61.085346           1.453219   \n",
       "min         0.000000        1.000000           0.000000           0.010000   \n",
       "25%        60.000000        1.000000           1.000000           0.190000   \n",
       "50%        95.000000        2.000000           6.000000           0.570000   \n",
       "75%       158.000000        4.000000          26.000000           1.450000   \n",
       "max    100200.000000     6666.000000        2402.000000         106.740000   \n",
       "\n",
       "       calculated_host_listings_count  availability_365  \\\n",
       "count                   683490.000000     683490.000000   \n",
       "mean                        16.296528        177.934024   \n",
       "std                         60.918366        141.836200   \n",
       "min                          1.000000          0.000000   \n",
       "25%                          1.000000         16.000000   \n",
       "50%                          2.000000        177.000000   \n",
       "75%                          7.000000        332.000000   \n",
       "max                       1062.000000        366.000000   \n",
       "\n",
       "       number_of_reviews_ltm   price_local  \n",
       "count          683490.000000  1.538280e+05  \n",
       "mean                8.376200  1.156020e+03  \n",
       "std                16.345756  1.439684e+04  \n",
       "min                 0.000000  0.000000e+00  \n",
       "25%                 0.000000  9.100000e+01  \n",
       "50%                 2.000000  2.670000e+02  \n",
       "75%                 9.000000  1.100000e+03  \n",
       "max              1352.000000  1.871235e+06  "
      ]
     },
     "execution_count": 187,
     "metadata": {},
     "output_type": "execute_result"
    }
   ],
   "source": [
    "df_europe.describe()"
   ]
  },
  {
   "cell_type": "markdown",
   "id": "911d3820",
   "metadata": {},
   "source": [
    "**3a. Removing Duplicates**"
   ]
  },
  {
   "cell_type": "code",
   "execution_count": 188,
   "id": "a44a5256",
   "metadata": {},
   "outputs": [],
   "source": [
    "#checking for duplicates\n",
    "df_dups = df_europe[df_europe.duplicated()]"
   ]
  },
  {
   "cell_type": "code",
   "execution_count": 189,
   "id": "bea82d61",
   "metadata": {},
   "outputs": [
    {
     "data": {
      "text/html": [
       "<div>\n",
       "<style scoped>\n",
       "    .dataframe tbody tr th:only-of-type {\n",
       "        vertical-align: middle;\n",
       "    }\n",
       "\n",
       "    .dataframe tbody tr th {\n",
       "        vertical-align: top;\n",
       "    }\n",
       "\n",
       "    .dataframe thead th {\n",
       "        text-align: right;\n",
       "    }\n",
       "</style>\n",
       "<table border=\"1\" class=\"dataframe\">\n",
       "  <thead>\n",
       "    <tr style=\"text-align: right;\">\n",
       "      <th></th>\n",
       "      <th>id</th>\n",
       "      <th>name</th>\n",
       "      <th>host_id</th>\n",
       "      <th>host_name</th>\n",
       "      <th>neighbourhood_group</th>\n",
       "      <th>neighbourhood</th>\n",
       "      <th>latitude</th>\n",
       "      <th>longitude</th>\n",
       "      <th>room_type</th>\n",
       "      <th>price</th>\n",
       "      <th>minimum_nights</th>\n",
       "      <th>number_of_reviews</th>\n",
       "      <th>last_review</th>\n",
       "      <th>reviews_per_month</th>\n",
       "      <th>calculated_host_listings_count</th>\n",
       "      <th>availability_365</th>\n",
       "      <th>number_of_reviews_ltm</th>\n",
       "      <th>license</th>\n",
       "      <th>country</th>\n",
       "      <th>city</th>\n",
       "      <th>price_local</th>\n",
       "    </tr>\n",
       "  </thead>\n",
       "  <tbody>\n",
       "  </tbody>\n",
       "</table>\n",
       "</div>"
      ],
      "text/plain": [
       "Empty DataFrame\n",
       "Columns: [id, name, host_id, host_name, neighbourhood_group, neighbourhood, latitude, longitude, room_type, price, minimum_nights, number_of_reviews, last_review, reviews_per_month, calculated_host_listings_count, availability_365, number_of_reviews_ltm, license, country, city, price_local]\n",
       "Index: []"
      ]
     },
     "execution_count": 189,
     "metadata": {},
     "output_type": "execute_result"
    }
   ],
   "source": [
    "df_dups"
   ]
  },
  {
   "cell_type": "markdown",
   "id": "9cf52c3b",
   "metadata": {},
   "source": [
    "**No duplicates have been found in the dataframe**"
   ]
  },
  {
   "cell_type": "code",
   "execution_count": 190,
   "id": "a0362e29",
   "metadata": {},
   "outputs": [],
   "source": [
    "# Additionally I'm also checking that there are not duplicates in the \"id\" category, as it should function as a primary key\n",
    "df_dups_id = df_europe.duplicated(['id'])"
   ]
  },
  {
   "cell_type": "code",
   "execution_count": 191,
   "id": "128a9cbd",
   "metadata": {},
   "outputs": [],
   "source": [
    "num_duplicates = df_dups_id.sum"
   ]
  },
  {
   "cell_type": "code",
   "execution_count": 192,
   "id": "cb0782d0",
   "metadata": {},
   "outputs": [
    {
     "data": {
      "text/plain": [
       "0"
      ]
     },
     "execution_count": 192,
     "metadata": {},
     "output_type": "execute_result"
    }
   ],
   "source": [
    "num_duplicates()"
   ]
  },
  {
   "cell_type": "markdown",
   "id": "8659ba6a",
   "metadata": {},
   "source": [
    "**There are no duplicates in the \"id\" column**"
   ]
  },
  {
   "cell_type": "markdown",
   "id": "01af5807",
   "metadata": {},
   "source": [
    "**3b. Assessing missing values**"
   ]
  },
  {
   "cell_type": "code",
   "execution_count": 193,
   "id": "05499e68",
   "metadata": {},
   "outputs": [
    {
     "data": {
      "text/plain": [
       "id                                     0\n",
       "name                                 183\n",
       "host_id                                0\n",
       "host_name                            187\n",
       "neighbourhood_group               497720\n",
       "neighbourhood                          0\n",
       "latitude                               0\n",
       "longitude                              0\n",
       "room_type                              0\n",
       "price                                  0\n",
       "minimum_nights                         0\n",
       "number_of_reviews                      0\n",
       "last_review                       198554\n",
       "reviews_per_month                 143739\n",
       "calculated_host_listings_count         0\n",
       "availability_365                       0\n",
       "number_of_reviews_ltm                  0\n",
       "license                           432233\n",
       "country                                0\n",
       "city                                   0\n",
       "price_local                       529662\n",
       "dtype: int64"
      ]
     },
     "execution_count": 193,
     "metadata": {},
     "output_type": "execute_result"
    }
   ],
   "source": [
    "df_europe.isnull().sum()"
   ]
  },
  {
   "cell_type": "markdown",
   "id": "c3c6e28b",
   "metadata": {},
   "source": [
    "**Most of the missing values are in columns that will be removed, such as neigbourhood group, license, or price_local, as for the rest of missing values they should not hinder the realization of any analysis so I'll be leaving them**"
   ]
  },
  {
   "cell_type": "markdown",
   "id": "28ca98ac",
   "metadata": {},
   "source": [
    "**3c. Droping unnecessary columns**"
   ]
  },
  {
   "cell_type": "code",
   "execution_count": 194,
   "id": "4fb3a6ad",
   "metadata": {},
   "outputs": [],
   "source": [
    "# I'll be droping the columns name, host_name, neigbourhood group, license and price_local as they are not necessary for the analysis.\n",
    "df_europe_clean = df_europe.drop(columns =['name', 'host_name','neighbourhood_group','license', 'price_local'])"
   ]
  },
  {
   "cell_type": "code",
   "execution_count": 195,
   "id": "5d598032",
   "metadata": {},
   "outputs": [
    {
     "data": {
      "text/html": [
       "<div>\n",
       "<style scoped>\n",
       "    .dataframe tbody tr th:only-of-type {\n",
       "        vertical-align: middle;\n",
       "    }\n",
       "\n",
       "    .dataframe tbody tr th {\n",
       "        vertical-align: top;\n",
       "    }\n",
       "\n",
       "    .dataframe thead th {\n",
       "        text-align: right;\n",
       "    }\n",
       "</style>\n",
       "<table border=\"1\" class=\"dataframe\">\n",
       "  <thead>\n",
       "    <tr style=\"text-align: right;\">\n",
       "      <th></th>\n",
       "      <th>id</th>\n",
       "      <th>host_id</th>\n",
       "      <th>neighbourhood</th>\n",
       "      <th>latitude</th>\n",
       "      <th>longitude</th>\n",
       "      <th>room_type</th>\n",
       "      <th>price</th>\n",
       "      <th>minimum_nights</th>\n",
       "      <th>number_of_reviews</th>\n",
       "      <th>last_review</th>\n",
       "      <th>reviews_per_month</th>\n",
       "      <th>calculated_host_listings_count</th>\n",
       "      <th>availability_365</th>\n",
       "      <th>number_of_reviews_ltm</th>\n",
       "      <th>country</th>\n",
       "      <th>city</th>\n",
       "    </tr>\n",
       "  </thead>\n",
       "  <tbody>\n",
       "    <tr>\n",
       "      <th>0</th>\n",
       "      <td>816940</td>\n",
       "      <td>4290554</td>\n",
       "      <td>Zuid</td>\n",
       "      <td>52.35323</td>\n",
       "      <td>4.85421</td>\n",
       "      <td>Entire home/apt</td>\n",
       "      <td>165</td>\n",
       "      <td>6</td>\n",
       "      <td>63</td>\n",
       "      <td>2022-11-28</td>\n",
       "      <td>0.54</td>\n",
       "      <td>1</td>\n",
       "      <td>11</td>\n",
       "      <td>2</td>\n",
       "      <td>Netherlands</td>\n",
       "      <td>Amsterdam</td>\n",
       "    </tr>\n",
       "    <tr>\n",
       "      <th>1</th>\n",
       "      <td>528022</td>\n",
       "      <td>2594559</td>\n",
       "      <td>Westerpark</td>\n",
       "      <td>52.39114</td>\n",
       "      <td>4.88846</td>\n",
       "      <td>Private room</td>\n",
       "      <td>100</td>\n",
       "      <td>2</td>\n",
       "      <td>248</td>\n",
       "      <td>2022-11-28</td>\n",
       "      <td>3.30</td>\n",
       "      <td>1</td>\n",
       "      <td>212</td>\n",
       "      <td>37</td>\n",
       "      <td>Netherlands</td>\n",
       "      <td>Amsterdam</td>\n",
       "    </tr>\n",
       "    <tr>\n",
       "      <th>2</th>\n",
       "      <td>538723</td>\n",
       "      <td>356740</td>\n",
       "      <td>Watergraafsmeer</td>\n",
       "      <td>52.35400</td>\n",
       "      <td>4.93965</td>\n",
       "      <td>Entire home/apt</td>\n",
       "      <td>140</td>\n",
       "      <td>5</td>\n",
       "      <td>57</td>\n",
       "      <td>2020-01-01</td>\n",
       "      <td>0.45</td>\n",
       "      <td>1</td>\n",
       "      <td>0</td>\n",
       "      <td>0</td>\n",
       "      <td>Netherlands</td>\n",
       "      <td>Amsterdam</td>\n",
       "    </tr>\n",
       "    <tr>\n",
       "      <th>3</th>\n",
       "      <td>549310</td>\n",
       "      <td>2699033</td>\n",
       "      <td>De Baarsjes - Oud-West</td>\n",
       "      <td>52.37126</td>\n",
       "      <td>4.86241</td>\n",
       "      <td>Entire home/apt</td>\n",
       "      <td>200</td>\n",
       "      <td>2</td>\n",
       "      <td>54</td>\n",
       "      <td>2022-08-10</td>\n",
       "      <td>0.60</td>\n",
       "      <td>1</td>\n",
       "      <td>7</td>\n",
       "      <td>7</td>\n",
       "      <td>Netherlands</td>\n",
       "      <td>Amsterdam</td>\n",
       "    </tr>\n",
       "    <tr>\n",
       "      <th>4</th>\n",
       "      <td>553514</td>\n",
       "      <td>618589</td>\n",
       "      <td>Westerpark</td>\n",
       "      <td>52.38444</td>\n",
       "      <td>4.86916</td>\n",
       "      <td>Entire home/apt</td>\n",
       "      <td>80</td>\n",
       "      <td>2</td>\n",
       "      <td>162</td>\n",
       "      <td>2020-02-16</td>\n",
       "      <td>1.34</td>\n",
       "      <td>1</td>\n",
       "      <td>1</td>\n",
       "      <td>0</td>\n",
       "      <td>Netherlands</td>\n",
       "      <td>Amsterdam</td>\n",
       "    </tr>\n",
       "  </tbody>\n",
       "</table>\n",
       "</div>"
      ],
      "text/plain": [
       "       id  host_id           neighbourhood  latitude  longitude  \\\n",
       "0  816940  4290554                    Zuid  52.35323    4.85421   \n",
       "1  528022  2594559              Westerpark  52.39114    4.88846   \n",
       "2  538723   356740         Watergraafsmeer  52.35400    4.93965   \n",
       "3  549310  2699033  De Baarsjes - Oud-West  52.37126    4.86241   \n",
       "4  553514   618589              Westerpark  52.38444    4.86916   \n",
       "\n",
       "         room_type  price  minimum_nights  number_of_reviews last_review  \\\n",
       "0  Entire home/apt    165               6                 63  2022-11-28   \n",
       "1     Private room    100               2                248  2022-11-28   \n",
       "2  Entire home/apt    140               5                 57  2020-01-01   \n",
       "3  Entire home/apt    200               2                 54  2022-08-10   \n",
       "4  Entire home/apt     80               2                162  2020-02-16   \n",
       "\n",
       "   reviews_per_month  calculated_host_listings_count  availability_365  \\\n",
       "0               0.54                               1                11   \n",
       "1               3.30                               1               212   \n",
       "2               0.45                               1                 0   \n",
       "3               0.60                               1                 7   \n",
       "4               1.34                               1                 1   \n",
       "\n",
       "   number_of_reviews_ltm      country       city  \n",
       "0                      2  Netherlands  Amsterdam  \n",
       "1                     37  Netherlands  Amsterdam  \n",
       "2                      0  Netherlands  Amsterdam  \n",
       "3                      7  Netherlands  Amsterdam  \n",
       "4                      0  Netherlands  Amsterdam  "
      ]
     },
     "execution_count": 195,
     "metadata": {},
     "output_type": "execute_result"
    }
   ],
   "source": [
    "#checking the results \n",
    "df_europe_clean.head()"
   ]
  },
  {
   "cell_type": "markdown",
   "id": "006f1459",
   "metadata": {},
   "source": [
    "**3d. Renaming columns**"
   ]
  },
  {
   "cell_type": "code",
   "execution_count": 196,
   "id": "98502ebc",
   "metadata": {},
   "outputs": [],
   "source": [
    "#renaming the \"id\" column to \"listing_id\"\n",
    "df_europe_clean.rename(columns= {'id':'listing_id'}, inplace = True)"
   ]
  },
  {
   "cell_type": "code",
   "execution_count": 197,
   "id": "50bef792",
   "metadata": {},
   "outputs": [
    {
     "data": {
      "text/html": [
       "<div>\n",
       "<style scoped>\n",
       "    .dataframe tbody tr th:only-of-type {\n",
       "        vertical-align: middle;\n",
       "    }\n",
       "\n",
       "    .dataframe tbody tr th {\n",
       "        vertical-align: top;\n",
       "    }\n",
       "\n",
       "    .dataframe thead th {\n",
       "        text-align: right;\n",
       "    }\n",
       "</style>\n",
       "<table border=\"1\" class=\"dataframe\">\n",
       "  <thead>\n",
       "    <tr style=\"text-align: right;\">\n",
       "      <th></th>\n",
       "      <th>listing_id</th>\n",
       "      <th>host_id</th>\n",
       "      <th>neighbourhood</th>\n",
       "      <th>latitude</th>\n",
       "      <th>longitude</th>\n",
       "      <th>room_type</th>\n",
       "      <th>price</th>\n",
       "      <th>minimum_nights</th>\n",
       "      <th>number_of_reviews</th>\n",
       "      <th>last_review</th>\n",
       "      <th>reviews_per_month</th>\n",
       "      <th>calculated_host_listings_count</th>\n",
       "      <th>availability_365</th>\n",
       "      <th>number_of_reviews_ltm</th>\n",
       "      <th>country</th>\n",
       "      <th>city</th>\n",
       "    </tr>\n",
       "  </thead>\n",
       "  <tbody>\n",
       "    <tr>\n",
       "      <th>0</th>\n",
       "      <td>816940</td>\n",
       "      <td>4290554</td>\n",
       "      <td>Zuid</td>\n",
       "      <td>52.35323</td>\n",
       "      <td>4.85421</td>\n",
       "      <td>Entire home/apt</td>\n",
       "      <td>165</td>\n",
       "      <td>6</td>\n",
       "      <td>63</td>\n",
       "      <td>2022-11-28</td>\n",
       "      <td>0.54</td>\n",
       "      <td>1</td>\n",
       "      <td>11</td>\n",
       "      <td>2</td>\n",
       "      <td>Netherlands</td>\n",
       "      <td>Amsterdam</td>\n",
       "    </tr>\n",
       "    <tr>\n",
       "      <th>1</th>\n",
       "      <td>528022</td>\n",
       "      <td>2594559</td>\n",
       "      <td>Westerpark</td>\n",
       "      <td>52.39114</td>\n",
       "      <td>4.88846</td>\n",
       "      <td>Private room</td>\n",
       "      <td>100</td>\n",
       "      <td>2</td>\n",
       "      <td>248</td>\n",
       "      <td>2022-11-28</td>\n",
       "      <td>3.30</td>\n",
       "      <td>1</td>\n",
       "      <td>212</td>\n",
       "      <td>37</td>\n",
       "      <td>Netherlands</td>\n",
       "      <td>Amsterdam</td>\n",
       "    </tr>\n",
       "    <tr>\n",
       "      <th>2</th>\n",
       "      <td>538723</td>\n",
       "      <td>356740</td>\n",
       "      <td>Watergraafsmeer</td>\n",
       "      <td>52.35400</td>\n",
       "      <td>4.93965</td>\n",
       "      <td>Entire home/apt</td>\n",
       "      <td>140</td>\n",
       "      <td>5</td>\n",
       "      <td>57</td>\n",
       "      <td>2020-01-01</td>\n",
       "      <td>0.45</td>\n",
       "      <td>1</td>\n",
       "      <td>0</td>\n",
       "      <td>0</td>\n",
       "      <td>Netherlands</td>\n",
       "      <td>Amsterdam</td>\n",
       "    </tr>\n",
       "    <tr>\n",
       "      <th>3</th>\n",
       "      <td>549310</td>\n",
       "      <td>2699033</td>\n",
       "      <td>De Baarsjes - Oud-West</td>\n",
       "      <td>52.37126</td>\n",
       "      <td>4.86241</td>\n",
       "      <td>Entire home/apt</td>\n",
       "      <td>200</td>\n",
       "      <td>2</td>\n",
       "      <td>54</td>\n",
       "      <td>2022-08-10</td>\n",
       "      <td>0.60</td>\n",
       "      <td>1</td>\n",
       "      <td>7</td>\n",
       "      <td>7</td>\n",
       "      <td>Netherlands</td>\n",
       "      <td>Amsterdam</td>\n",
       "    </tr>\n",
       "    <tr>\n",
       "      <th>4</th>\n",
       "      <td>553514</td>\n",
       "      <td>618589</td>\n",
       "      <td>Westerpark</td>\n",
       "      <td>52.38444</td>\n",
       "      <td>4.86916</td>\n",
       "      <td>Entire home/apt</td>\n",
       "      <td>80</td>\n",
       "      <td>2</td>\n",
       "      <td>162</td>\n",
       "      <td>2020-02-16</td>\n",
       "      <td>1.34</td>\n",
       "      <td>1</td>\n",
       "      <td>1</td>\n",
       "      <td>0</td>\n",
       "      <td>Netherlands</td>\n",
       "      <td>Amsterdam</td>\n",
       "    </tr>\n",
       "  </tbody>\n",
       "</table>\n",
       "</div>"
      ],
      "text/plain": [
       "   listing_id  host_id           neighbourhood  latitude  longitude  \\\n",
       "0      816940  4290554                    Zuid  52.35323    4.85421   \n",
       "1      528022  2594559              Westerpark  52.39114    4.88846   \n",
       "2      538723   356740         Watergraafsmeer  52.35400    4.93965   \n",
       "3      549310  2699033  De Baarsjes - Oud-West  52.37126    4.86241   \n",
       "4      553514   618589              Westerpark  52.38444    4.86916   \n",
       "\n",
       "         room_type  price  minimum_nights  number_of_reviews last_review  \\\n",
       "0  Entire home/apt    165               6                 63  2022-11-28   \n",
       "1     Private room    100               2                248  2022-11-28   \n",
       "2  Entire home/apt    140               5                 57  2020-01-01   \n",
       "3  Entire home/apt    200               2                 54  2022-08-10   \n",
       "4  Entire home/apt     80               2                162  2020-02-16   \n",
       "\n",
       "   reviews_per_month  calculated_host_listings_count  availability_365  \\\n",
       "0               0.54                               1                11   \n",
       "1               3.30                               1               212   \n",
       "2               0.45                               1                 0   \n",
       "3               0.60                               1                 7   \n",
       "4               1.34                               1                 1   \n",
       "\n",
       "   number_of_reviews_ltm      country       city  \n",
       "0                      2  Netherlands  Amsterdam  \n",
       "1                     37  Netherlands  Amsterdam  \n",
       "2                      0  Netherlands  Amsterdam  \n",
       "3                      7  Netherlands  Amsterdam  \n",
       "4                      0  Netherlands  Amsterdam  "
      ]
     },
     "execution_count": 197,
     "metadata": {},
     "output_type": "execute_result"
    }
   ],
   "source": [
    "df_europe_clean.head()"
   ]
  },
  {
   "cell_type": "markdown",
   "id": "1be82f07",
   "metadata": {},
   "source": [
    "**3e. Converting data types**"
   ]
  },
  {
   "cell_type": "code",
   "execution_count": 198,
   "id": "4789594e",
   "metadata": {},
   "outputs": [
    {
     "name": "stdout",
     "output_type": "stream",
     "text": [
      "listing_id  consistent\n",
      "host_id  consistent\n",
      "neighbourhood  consistent\n",
      "latitude  consistent\n",
      "longitude  consistent\n",
      "room_type  consistent\n",
      "price  consistent\n",
      "minimum_nights  consistent\n",
      "number_of_reviews  consistent\n",
      "last_review  mixed\n",
      "reviews_per_month  consistent\n",
      "calculated_host_listings_count  consistent\n",
      "availability_365  consistent\n",
      "number_of_reviews_ltm  consistent\n",
      "country  consistent\n",
      "city  consistent\n"
     ]
    }
   ],
   "source": [
    "# Checking for mixed-type data in df_europe_clean\n",
    "for col in df_europe_clean.columns.tolist():\n",
    "  weird = (df_europe_clean[[col]].applymap(type) != df_europe_clean[[col]].iloc[0].apply(type)).any(axis = 1)\n",
    "  if len (df_europe_clean[weird]) > 0:\n",
    "    print (col, ' mixed')\n",
    "  else: print(col, ' consistent')"
   ]
  },
  {
   "cell_type": "code",
   "execution_count": 199,
   "id": "6794161f",
   "metadata": {},
   "outputs": [],
   "source": [
    "#changing the last_review column to datetime64 and labeling as NaN all the rows that do not conform to a date format\n",
    "df_europe_clean['last_review'] = pd.to_datetime(df_europe_clean['last_review'], errors='coerce')"
   ]
  },
  {
   "cell_type": "markdown",
   "id": "4dde0c8e",
   "metadata": {},
   "source": [
    "**3f. Additional data cleaning**"
   ]
  },
  {
   "cell_type": "code",
   "execution_count": 200,
   "id": "a96ea7d1",
   "metadata": {},
   "outputs": [
    {
     "data": {
      "text/html": [
       "<div>\n",
       "<style scoped>\n",
       "    .dataframe tbody tr th:only-of-type {\n",
       "        vertical-align: middle;\n",
       "    }\n",
       "\n",
       "    .dataframe tbody tr th {\n",
       "        vertical-align: top;\n",
       "    }\n",
       "\n",
       "    .dataframe thead th {\n",
       "        text-align: right;\n",
       "    }\n",
       "</style>\n",
       "<table border=\"1\" class=\"dataframe\">\n",
       "  <thead>\n",
       "    <tr style=\"text-align: right;\">\n",
       "      <th></th>\n",
       "      <th>listing_id</th>\n",
       "      <th>host_id</th>\n",
       "      <th>latitude</th>\n",
       "      <th>longitude</th>\n",
       "      <th>price</th>\n",
       "      <th>minimum_nights</th>\n",
       "      <th>number_of_reviews</th>\n",
       "      <th>reviews_per_month</th>\n",
       "      <th>calculated_host_listings_count</th>\n",
       "      <th>availability_365</th>\n",
       "      <th>number_of_reviews_ltm</th>\n",
       "    </tr>\n",
       "  </thead>\n",
       "  <tbody>\n",
       "    <tr>\n",
       "      <th>count</th>\n",
       "      <td>6.834900e+05</td>\n",
       "      <td>6.834900e+05</td>\n",
       "      <td>683490.000000</td>\n",
       "      <td>683490.000000</td>\n",
       "      <td>683490.000000</td>\n",
       "      <td>683490.000000</td>\n",
       "      <td>683490.000000</td>\n",
       "      <td>539751.000000</td>\n",
       "      <td>683490.000000</td>\n",
       "      <td>683490.000000</td>\n",
       "      <td>683490.000000</td>\n",
       "    </tr>\n",
       "    <tr>\n",
       "      <th>mean</th>\n",
       "      <td>1.760459e+17</td>\n",
       "      <td>1.542534e+08</td>\n",
       "      <td>44.325545</td>\n",
       "      <td>8.611037</td>\n",
       "      <td>226.060427</td>\n",
       "      <td>14.330435</td>\n",
       "      <td>28.508413</td>\n",
       "      <td>1.097590</td>\n",
       "      <td>16.296528</td>\n",
       "      <td>177.934024</td>\n",
       "      <td>8.376200</td>\n",
       "    </tr>\n",
       "    <tr>\n",
       "      <th>std</th>\n",
       "      <td>2.974760e+17</td>\n",
       "      <td>1.533737e+08</td>\n",
       "      <td>5.923721</td>\n",
       "      <td>10.351780</td>\n",
       "      <td>1469.276134</td>\n",
       "      <td>63.663856</td>\n",
       "      <td>61.085346</td>\n",
       "      <td>1.453219</td>\n",
       "      <td>60.918366</td>\n",
       "      <td>141.836200</td>\n",
       "      <td>16.345756</td>\n",
       "    </tr>\n",
       "    <tr>\n",
       "      <th>min</th>\n",
       "      <td>2.352000e+03</td>\n",
       "      <td>2.750000e+02</td>\n",
       "      <td>34.834420</td>\n",
       "      <td>-9.498520</td>\n",
       "      <td>0.000000</td>\n",
       "      <td>1.000000</td>\n",
       "      <td>0.000000</td>\n",
       "      <td>0.010000</td>\n",
       "      <td>1.000000</td>\n",
       "      <td>0.000000</td>\n",
       "      <td>0.000000</td>\n",
       "    </tr>\n",
       "    <tr>\n",
       "      <th>25%</th>\n",
       "      <td>2.008656e+07</td>\n",
       "      <td>2.371202e+07</td>\n",
       "      <td>39.857973</td>\n",
       "      <td>-0.087400</td>\n",
       "      <td>60.000000</td>\n",
       "      <td>1.000000</td>\n",
       "      <td>1.000000</td>\n",
       "      <td>0.190000</td>\n",
       "      <td>1.000000</td>\n",
       "      <td>16.000000</td>\n",
       "      <td>0.000000</td>\n",
       "    </tr>\n",
       "    <tr>\n",
       "      <th>50%</th>\n",
       "      <td>3.926198e+07</td>\n",
       "      <td>9.478181e+07</td>\n",
       "      <td>41.967525</td>\n",
       "      <td>8.543750</td>\n",
       "      <td>95.000000</td>\n",
       "      <td>2.000000</td>\n",
       "      <td>6.000000</td>\n",
       "      <td>0.570000</td>\n",
       "      <td>2.000000</td>\n",
       "      <td>177.000000</td>\n",
       "      <td>2.000000</td>\n",
       "    </tr>\n",
       "    <tr>\n",
       "      <th>75%</th>\n",
       "      <td>5.613984e+17</td>\n",
       "      <td>2.581546e+08</td>\n",
       "      <td>48.882710</td>\n",
       "      <td>15.110298</td>\n",
       "      <td>158.000000</td>\n",
       "      <td>4.000000</td>\n",
       "      <td>26.000000</td>\n",
       "      <td>1.450000</td>\n",
       "      <td>7.000000</td>\n",
       "      <td>332.000000</td>\n",
       "      <td>9.000000</td>\n",
       "    </tr>\n",
       "    <tr>\n",
       "      <th>max</th>\n",
       "      <td>8.192776e+17</td>\n",
       "      <td>4.993252e+08</td>\n",
       "      <td>60.038940</td>\n",
       "      <td>29.908120</td>\n",
       "      <td>100200.000000</td>\n",
       "      <td>6666.000000</td>\n",
       "      <td>2402.000000</td>\n",
       "      <td>106.740000</td>\n",
       "      <td>1062.000000</td>\n",
       "      <td>366.000000</td>\n",
       "      <td>1352.000000</td>\n",
       "    </tr>\n",
       "  </tbody>\n",
       "</table>\n",
       "</div>"
      ],
      "text/plain": [
       "         listing_id       host_id       latitude      longitude  \\\n",
       "count  6.834900e+05  6.834900e+05  683490.000000  683490.000000   \n",
       "mean   1.760459e+17  1.542534e+08      44.325545       8.611037   \n",
       "std    2.974760e+17  1.533737e+08       5.923721      10.351780   \n",
       "min    2.352000e+03  2.750000e+02      34.834420      -9.498520   \n",
       "25%    2.008656e+07  2.371202e+07      39.857973      -0.087400   \n",
       "50%    3.926198e+07  9.478181e+07      41.967525       8.543750   \n",
       "75%    5.613984e+17  2.581546e+08      48.882710      15.110298   \n",
       "max    8.192776e+17  4.993252e+08      60.038940      29.908120   \n",
       "\n",
       "               price  minimum_nights  number_of_reviews  reviews_per_month  \\\n",
       "count  683490.000000   683490.000000      683490.000000      539751.000000   \n",
       "mean      226.060427       14.330435          28.508413           1.097590   \n",
       "std      1469.276134       63.663856          61.085346           1.453219   \n",
       "min         0.000000        1.000000           0.000000           0.010000   \n",
       "25%        60.000000        1.000000           1.000000           0.190000   \n",
       "50%        95.000000        2.000000           6.000000           0.570000   \n",
       "75%       158.000000        4.000000          26.000000           1.450000   \n",
       "max    100200.000000     6666.000000        2402.000000         106.740000   \n",
       "\n",
       "       calculated_host_listings_count  availability_365  number_of_reviews_ltm  \n",
       "count                   683490.000000     683490.000000          683490.000000  \n",
       "mean                        16.296528        177.934024               8.376200  \n",
       "std                         60.918366        141.836200              16.345756  \n",
       "min                          1.000000          0.000000               0.000000  \n",
       "25%                          1.000000         16.000000               0.000000  \n",
       "50%                          2.000000        177.000000               2.000000  \n",
       "75%                          7.000000        332.000000               9.000000  \n",
       "max                       1062.000000        366.000000            1352.000000  "
      ]
     },
     "execution_count": 200,
     "metadata": {},
     "output_type": "execute_result"
    }
   ],
   "source": [
    "df_europe_clean.describe()"
   ]
  },
  {
   "cell_type": "code",
   "execution_count": 201,
   "id": "1ed6a5a3",
   "metadata": {},
   "outputs": [
    {
     "data": {
      "text/plain": [
       "(683490, 16)"
      ]
     },
     "execution_count": 201,
     "metadata": {},
     "output_type": "execute_result"
    }
   ],
   "source": [
    "df_europe_clean.shape"
   ]
  },
  {
   "cell_type": "markdown",
   "id": "94589e88",
   "metadata": {},
   "source": [
    "**The describe shows some strange values in the price category: there are extremely expensive listings (100200 euros) and other that are to cheap (0 euros). We'll drop all the values that are 0, as they can be understood as mistakes and all the values above 1.000 euros per night, as they can be considered as high luxury establishemnts, are we are interested above all in analyizing the bulk of the airbnb listings, without these being distorted by the most luxurious accomodations**"
   ]
  },
  {
   "cell_type": "code",
   "execution_count": 202,
   "id": "07f6c418",
   "metadata": {},
   "outputs": [],
   "source": [
    "#droping rows with prices per night above 1.000 euros\n",
    "df_europe_clean_2 = df_europe_clean[df_europe_clean['price']<=1000]"
   ]
  },
  {
   "cell_type": "code",
   "execution_count": 203,
   "id": "7a0e856a",
   "metadata": {},
   "outputs": [
    {
     "data": {
      "text/plain": [
       "(671044, 16)"
      ]
     },
     "execution_count": 203,
     "metadata": {},
     "output_type": "execute_result"
    }
   ],
   "source": [
    "df_europe_clean_2.shape"
   ]
  },
  {
   "cell_type": "markdown",
   "id": "bba5d5fd",
   "metadata": {},
   "source": [
    "**935 rows with price values above 10.000 euros per night have been eliminated** "
   ]
  },
  {
   "cell_type": "code",
   "execution_count": 204,
   "id": "86e0f257",
   "metadata": {},
   "outputs": [
    {
     "data": {
      "text/html": [
       "<div>\n",
       "<style scoped>\n",
       "    .dataframe tbody tr th:only-of-type {\n",
       "        vertical-align: middle;\n",
       "    }\n",
       "\n",
       "    .dataframe tbody tr th {\n",
       "        vertical-align: top;\n",
       "    }\n",
       "\n",
       "    .dataframe thead th {\n",
       "        text-align: right;\n",
       "    }\n",
       "</style>\n",
       "<table border=\"1\" class=\"dataframe\">\n",
       "  <thead>\n",
       "    <tr style=\"text-align: right;\">\n",
       "      <th></th>\n",
       "      <th>listing_id</th>\n",
       "      <th>host_id</th>\n",
       "      <th>neighbourhood</th>\n",
       "      <th>latitude</th>\n",
       "      <th>longitude</th>\n",
       "      <th>room_type</th>\n",
       "      <th>price</th>\n",
       "      <th>minimum_nights</th>\n",
       "      <th>number_of_reviews</th>\n",
       "      <th>last_review</th>\n",
       "      <th>reviews_per_month</th>\n",
       "      <th>calculated_host_listings_count</th>\n",
       "      <th>availability_365</th>\n",
       "      <th>number_of_reviews_ltm</th>\n",
       "      <th>country</th>\n",
       "      <th>city</th>\n",
       "    </tr>\n",
       "  </thead>\n",
       "  <tbody>\n",
       "    <tr>\n",
       "      <th>4074</th>\n",
       "      <td>42430386</td>\n",
       "      <td>308694260</td>\n",
       "      <td>Bos en Lommer</td>\n",
       "      <td>52.383220</td>\n",
       "      <td>4.846250</td>\n",
       "      <td>Hotel room</td>\n",
       "      <td>0</td>\n",
       "      <td>1</td>\n",
       "      <td>0</td>\n",
       "      <td>NaT</td>\n",
       "      <td>NaN</td>\n",
       "      <td>2</td>\n",
       "      <td>0</td>\n",
       "      <td>0</td>\n",
       "      <td>Netherlands</td>\n",
       "      <td>Amsterdam</td>\n",
       "    </tr>\n",
       "    <tr>\n",
       "      <th>4089</th>\n",
       "      <td>42431273</td>\n",
       "      <td>309119467</td>\n",
       "      <td>De Baarsjes - Oud-West</td>\n",
       "      <td>52.362790</td>\n",
       "      <td>4.874580</td>\n",
       "      <td>Hotel room</td>\n",
       "      <td>0</td>\n",
       "      <td>1</td>\n",
       "      <td>0</td>\n",
       "      <td>NaT</td>\n",
       "      <td>NaN</td>\n",
       "      <td>1</td>\n",
       "      <td>0</td>\n",
       "      <td>0</td>\n",
       "      <td>Netherlands</td>\n",
       "      <td>Amsterdam</td>\n",
       "    </tr>\n",
       "    <tr>\n",
       "      <th>4097</th>\n",
       "      <td>42431450</td>\n",
       "      <td>311321908</td>\n",
       "      <td>Centrum-West</td>\n",
       "      <td>52.369640</td>\n",
       "      <td>4.880040</td>\n",
       "      <td>Hotel room</td>\n",
       "      <td>0</td>\n",
       "      <td>1</td>\n",
       "      <td>68</td>\n",
       "      <td>2022-12-01</td>\n",
       "      <td>2.72</td>\n",
       "      <td>4</td>\n",
       "      <td>0</td>\n",
       "      <td>62</td>\n",
       "      <td>Netherlands</td>\n",
       "      <td>Amsterdam</td>\n",
       "    </tr>\n",
       "    <tr>\n",
       "      <th>4336</th>\n",
       "      <td>43095925</td>\n",
       "      <td>311323273</td>\n",
       "      <td>Centrum-Oost</td>\n",
       "      <td>52.365310</td>\n",
       "      <td>4.885780</td>\n",
       "      <td>Hotel room</td>\n",
       "      <td>0</td>\n",
       "      <td>1</td>\n",
       "      <td>0</td>\n",
       "      <td>NaT</td>\n",
       "      <td>NaN</td>\n",
       "      <td>1</td>\n",
       "      <td>0</td>\n",
       "      <td>0</td>\n",
       "      <td>Netherlands</td>\n",
       "      <td>Amsterdam</td>\n",
       "    </tr>\n",
       "    <tr>\n",
       "      <th>4342</th>\n",
       "      <td>43148414</td>\n",
       "      <td>318649852</td>\n",
       "      <td>Centrum-Oost</td>\n",
       "      <td>52.370360</td>\n",
       "      <td>4.905740</td>\n",
       "      <td>Hotel room</td>\n",
       "      <td>0</td>\n",
       "      <td>1</td>\n",
       "      <td>0</td>\n",
       "      <td>NaT</td>\n",
       "      <td>NaN</td>\n",
       "      <td>1</td>\n",
       "      <td>0</td>\n",
       "      <td>0</td>\n",
       "      <td>Netherlands</td>\n",
       "      <td>Amsterdam</td>\n",
       "    </tr>\n",
       "    <tr>\n",
       "      <th>...</th>\n",
       "      <td>...</td>\n",
       "      <td>...</td>\n",
       "      <td>...</td>\n",
       "      <td>...</td>\n",
       "      <td>...</td>\n",
       "      <td>...</td>\n",
       "      <td>...</td>\n",
       "      <td>...</td>\n",
       "      <td>...</td>\n",
       "      <td>...</td>\n",
       "      <td>...</td>\n",
       "      <td>...</td>\n",
       "      <td>...</td>\n",
       "      <td>...</td>\n",
       "      <td>...</td>\n",
       "      <td>...</td>\n",
       "    </tr>\n",
       "    <tr>\n",
       "      <th>1147</th>\n",
       "      <td>46326518</td>\n",
       "      <td>374971781</td>\n",
       "      <td>City</td>\n",
       "      <td>47.371776</td>\n",
       "      <td>8.534252</td>\n",
       "      <td>Hotel room</td>\n",
       "      <td>0</td>\n",
       "      <td>1</td>\n",
       "      <td>40</td>\n",
       "      <td>2022-11-20</td>\n",
       "      <td>1.72</td>\n",
       "      <td>1</td>\n",
       "      <td>0</td>\n",
       "      <td>23</td>\n",
       "      <td>Switzerland</td>\n",
       "      <td>Zurich</td>\n",
       "    </tr>\n",
       "    <tr>\n",
       "      <th>11718</th>\n",
       "      <td>47015570</td>\n",
       "      <td>380068382</td>\n",
       "      <td>Vall-llobrega</td>\n",
       "      <td>41.885444</td>\n",
       "      <td>3.126770</td>\n",
       "      <td>Hotel room</td>\n",
       "      <td>0</td>\n",
       "      <td>1</td>\n",
       "      <td>4</td>\n",
       "      <td>2022-06-14</td>\n",
       "      <td>0.23</td>\n",
       "      <td>1</td>\n",
       "      <td>0</td>\n",
       "      <td>3</td>\n",
       "      <td>Spain</td>\n",
       "      <td>Girona</td>\n",
       "    </tr>\n",
       "    <tr>\n",
       "      <th>9515</th>\n",
       "      <td>42384657</td>\n",
       "      <td>270236083</td>\n",
       "      <td>Palma de Mallorca</td>\n",
       "      <td>39.569520</td>\n",
       "      <td>2.645160</td>\n",
       "      <td>Hotel room</td>\n",
       "      <td>0</td>\n",
       "      <td>1</td>\n",
       "      <td>0</td>\n",
       "      <td>NaT</td>\n",
       "      <td>NaN</td>\n",
       "      <td>1</td>\n",
       "      <td>0</td>\n",
       "      <td>0</td>\n",
       "      <td>Spain</td>\n",
       "      <td>Mallorca</td>\n",
       "    </tr>\n",
       "    <tr>\n",
       "      <th>6325</th>\n",
       "      <td>43561460</td>\n",
       "      <td>347743316</td>\n",
       "      <td>Biarritz</td>\n",
       "      <td>43.482250</td>\n",
       "      <td>-1.554380</td>\n",
       "      <td>Hotel room</td>\n",
       "      <td>0</td>\n",
       "      <td>1</td>\n",
       "      <td>20</td>\n",
       "      <td>2022-07-20</td>\n",
       "      <td>0.67</td>\n",
       "      <td>1</td>\n",
       "      <td>0</td>\n",
       "      <td>2</td>\n",
       "      <td>France</td>\n",
       "      <td>Pays Basque</td>\n",
       "    </tr>\n",
       "    <tr>\n",
       "      <th>7270</th>\n",
       "      <td>46631065</td>\n",
       "      <td>376943790</td>\n",
       "      <td>Bayonne</td>\n",
       "      <td>43.496356</td>\n",
       "      <td>-1.483817</td>\n",
       "      <td>Hotel room</td>\n",
       "      <td>0</td>\n",
       "      <td>1</td>\n",
       "      <td>10</td>\n",
       "      <td>2022-08-15</td>\n",
       "      <td>0.42</td>\n",
       "      <td>1</td>\n",
       "      <td>0</td>\n",
       "      <td>1</td>\n",
       "      <td>France</td>\n",
       "      <td>Pays Basque</td>\n",
       "    </tr>\n",
       "  </tbody>\n",
       "</table>\n",
       "<p>105 rows × 16 columns</p>\n",
       "</div>"
      ],
      "text/plain": [
       "       listing_id    host_id           neighbourhood   latitude  longitude  \\\n",
       "4074     42430386  308694260           Bos en Lommer  52.383220   4.846250   \n",
       "4089     42431273  309119467  De Baarsjes - Oud-West  52.362790   4.874580   \n",
       "4097     42431450  311321908            Centrum-West  52.369640   4.880040   \n",
       "4336     43095925  311323273            Centrum-Oost  52.365310   4.885780   \n",
       "4342     43148414  318649852            Centrum-Oost  52.370360   4.905740   \n",
       "...           ...        ...                     ...        ...        ...   \n",
       "1147     46326518  374971781                    City  47.371776   8.534252   \n",
       "11718    47015570  380068382           Vall-llobrega  41.885444   3.126770   \n",
       "9515     42384657  270236083       Palma de Mallorca  39.569520   2.645160   \n",
       "6325     43561460  347743316                Biarritz  43.482250  -1.554380   \n",
       "7270     46631065  376943790                 Bayonne  43.496356  -1.483817   \n",
       "\n",
       "        room_type  price  minimum_nights  number_of_reviews last_review  \\\n",
       "4074   Hotel room      0               1                  0         NaT   \n",
       "4089   Hotel room      0               1                  0         NaT   \n",
       "4097   Hotel room      0               1                 68  2022-12-01   \n",
       "4336   Hotel room      0               1                  0         NaT   \n",
       "4342   Hotel room      0               1                  0         NaT   \n",
       "...           ...    ...             ...                ...         ...   \n",
       "1147   Hotel room      0               1                 40  2022-11-20   \n",
       "11718  Hotel room      0               1                  4  2022-06-14   \n",
       "9515   Hotel room      0               1                  0         NaT   \n",
       "6325   Hotel room      0               1                 20  2022-07-20   \n",
       "7270   Hotel room      0               1                 10  2022-08-15   \n",
       "\n",
       "       reviews_per_month  calculated_host_listings_count  availability_365  \\\n",
       "4074                 NaN                               2                 0   \n",
       "4089                 NaN                               1                 0   \n",
       "4097                2.72                               4                 0   \n",
       "4336                 NaN                               1                 0   \n",
       "4342                 NaN                               1                 0   \n",
       "...                  ...                             ...               ...   \n",
       "1147                1.72                               1                 0   \n",
       "11718               0.23                               1                 0   \n",
       "9515                 NaN                               1                 0   \n",
       "6325                0.67                               1                 0   \n",
       "7270                0.42                               1                 0   \n",
       "\n",
       "       number_of_reviews_ltm      country         city  \n",
       "4074                       0  Netherlands    Amsterdam  \n",
       "4089                       0  Netherlands    Amsterdam  \n",
       "4097                      62  Netherlands    Amsterdam  \n",
       "4336                       0  Netherlands    Amsterdam  \n",
       "4342                       0  Netherlands    Amsterdam  \n",
       "...                      ...          ...          ...  \n",
       "1147                      23  Switzerland       Zurich  \n",
       "11718                      3        Spain       Girona  \n",
       "9515                       0        Spain     Mallorca  \n",
       "6325                       2       France  Pays Basque  \n",
       "7270                       1       France  Pays Basque  \n",
       "\n",
       "[105 rows x 16 columns]"
      ]
     },
     "execution_count": 204,
     "metadata": {},
     "output_type": "execute_result"
    }
   ],
   "source": [
    "df_europe_clean_2[df_europe_clean_2['price']==0]"
   ]
  },
  {
   "cell_type": "code",
   "execution_count": 205,
   "id": "053983d6",
   "metadata": {},
   "outputs": [],
   "source": [
    "# droping the rows with a night price of 0\n",
    "df_europe_clean_def = df_europe_clean_2[df_europe_clean_2['price']>0]"
   ]
  },
  {
   "cell_type": "code",
   "execution_count": 206,
   "id": "3bad4db3",
   "metadata": {},
   "outputs": [
    {
     "data": {
      "text/plain": [
       "(670939, 16)"
      ]
     },
     "execution_count": 206,
     "metadata": {},
     "output_type": "execute_result"
    }
   ],
   "source": [
    "df_europe_clean_def.shape"
   ]
  },
  {
   "cell_type": "markdown",
   "id": "40b03be1",
   "metadata": {},
   "source": [
    "## 04. Exporting the new dataframe"
   ]
  },
  {
   "cell_type": "code",
   "execution_count": 207,
   "id": "c497ed6c",
   "metadata": {},
   "outputs": [],
   "source": [
    "df_europe_clean_def.to_pickle(os.path.join(path, '02 Data','Prepared Data','airbnb_europe_clean_max.pkl'))"
   ]
  },
  {
   "cell_type": "code",
   "execution_count": 208,
   "id": "2a202f0f",
   "metadata": {},
   "outputs": [],
   "source": [
    "df_europe_clean_def.to_csv(os.path.join(path, '02 Data','Prepared Data','airbnb_europe_clean_max.csv'),index=False)"
   ]
  }
 ],
 "metadata": {
  "kernelspec": {
   "display_name": "Python 3 (ipykernel)",
   "language": "python",
   "name": "python3"
  },
  "language_info": {
   "codemirror_mode": {
    "name": "ipython",
    "version": 3
   },
   "file_extension": ".py",
   "mimetype": "text/x-python",
   "name": "python",
   "nbconvert_exporter": "python",
   "pygments_lexer": "ipython3",
   "version": "3.9.13"
  }
 },
 "nbformat": 4,
 "nbformat_minor": 5
}
